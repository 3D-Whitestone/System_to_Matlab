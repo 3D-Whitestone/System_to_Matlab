{
 "cells": [
  {
   "cell_type": "code",
   "execution_count": 1,
   "metadata": {},
   "outputs": [],
   "source": [
    "from Modules.Robotik_System import *\n",
    "import symengine as se\n",
    "import sympy as sp\n",
    "\n",
    "\n",
    "from symengine import atan2, sin, cos, asin, acos, pi\n",
    "se.init_printing(pretty_print=True)"
   ]
  },
  {
   "cell_type": "code",
   "execution_count": 2,
   "metadata": {},
   "outputs": [
    {
     "data": {
      "text/latex": [
       "$\\left[\\begin{matrix}\n",
       "xE\\left(t\\right) \\\\\n",
       "yE\\left(t\\right) \\\\\n",
       "zE\\left(t\\right) \\\\\n",
       "\\end{matrix}\\right]\n",
       "$"
      ],
      "text/plain": [
       "[xE(t)]\n",
       "[yE(t)]\n",
       "[zE(t)]"
      ]
     },
     "metadata": {},
     "output_type": "display_data"
    }
   ],
   "source": [
    "q = DynamicSymbols(\"q\",5,0,True)\n",
    "[q1,q2,q3,q4,q5] = q.vars\n",
    "\n",
    "rE =  DynamicSymbols([\"xE\", \"yE\", \"zE\"],1,0,True)\n",
    "[xE, yE, zE ] = rE.vars\n",
    "\n",
    "# phi_E = DynamicSymbols([r\"\\alpha\", r\"\\beta\",r\"\\gamma\"],1,0,True)\n",
    "# [alpha, beta, gamma] = phi_E.vars\n",
    "\n",
    "# R_IE = Drehmatrix([alpha,beta,gamma])\n",
    "\n",
    "display(rE.vars)\n",
    "\n"
   ]
  },
  {
   "cell_type": "code",
   "execution_count": 3,
   "metadata": {},
   "outputs": [],
   "source": [
    "R_I1 = Drehmatrix([0,0,q1])\n",
    "R_12 = Drehmatrix([0,q2 - pi/2,0])\n",
    "R_23 = Drehmatrix([0,q3 + pi/2,0])\n",
    "R_34 = Drehmatrix([q4,0,0])\n",
    "R_45 = Drehmatrix([0,q5,0])\n",
    "#R_56 = Drehmatrix([q6,0,0])"
   ]
  },
  {
   "cell_type": "code",
   "execution_count": 4,
   "metadata": {},
   "outputs": [],
   "source": [
    "l = DynamicSymbols(\"l\",5,0,True)\n",
    "\n",
    "[l1,l2,l3,l4,l5] = l.vars"
   ]
  },
  {
   "cell_type": "code",
   "execution_count": 5,
   "metadata": {},
   "outputs": [],
   "source": [
    "I_r_I1  = se.Matrix([0,0,0])\n",
    "S1_r_12 = se.Matrix([0,l1,0])\n",
    "S2_r_23 = se.Matrix([l2,-l1,0])\n",
    "S3_r_34 = se.Matrix([l3,0,0])\n",
    "S4_r_45 = se.Matrix([l4,0,0])\n",
    "S5_r_56 = se.Matrix([l5+xE,yE,zE])"
   ]
  },
  {
   "cell_type": "code",
   "execution_count": 6,
   "metadata": {},
   "outputs": [
    {
     "data": {
      "text/latex": [
       "$\\displaystyle \\left[\\begin{matrix}- \\left(\\left(\\sin{\\left(q_{2}{\\left(t \\right)} + q_{3}{\\left(t \\right)} \\right)} \\cos{\\left(q_{1}{\\left(t \\right)} \\right)} \\cos{\\left(q_{4}{\\left(t \\right)} \\right)} + \\sin{\\left(q_{1}{\\left(t \\right)} \\right)} \\sin{\\left(q_{4}{\\left(t \\right)} \\right)}\\right) \\sin{\\left(q_{5}{\\left(t \\right)} \\right)} - \\cos{\\left(q_{2}{\\left(t \\right)} + q_{3}{\\left(t \\right)} \\right)} \\cos{\\left(q_{1}{\\left(t \\right)} \\right)} \\cos{\\left(q_{5}{\\left(t \\right)} \\right)}\\right) \\left(l_{5}{\\left(t \\right)} + \\operatorname{xE}{\\left(t \\right)}\\right) + \\left(\\left(\\sin{\\left(q_{2}{\\left(t \\right)} + q_{3}{\\left(t \\right)} \\right)} \\cos{\\left(q_{1}{\\left(t \\right)} \\right)} \\cos{\\left(q_{4}{\\left(t \\right)} \\right)} + \\sin{\\left(q_{1}{\\left(t \\right)} \\right)} \\sin{\\left(q_{4}{\\left(t \\right)} \\right)}\\right) \\cos{\\left(q_{5}{\\left(t \\right)} \\right)} + \\sin{\\left(q_{5}{\\left(t \\right)} \\right)} \\cos{\\left(q_{2}{\\left(t \\right)} + q_{3}{\\left(t \\right)} \\right)} \\cos{\\left(q_{1}{\\left(t \\right)} \\right)}\\right) \\operatorname{zE}{\\left(t \\right)} + \\left(\\sin{\\left(q_{2}{\\left(t \\right)} + q_{3}{\\left(t \\right)} \\right)} \\sin{\\left(q_{4}{\\left(t \\right)} \\right)} \\cos{\\left(q_{1}{\\left(t \\right)} \\right)} - \\sin{\\left(q_{1}{\\left(t \\right)} \\right)} \\cos{\\left(q_{4}{\\left(t \\right)} \\right)}\\right) \\operatorname{yE}{\\left(t \\right)} + l_{2}{\\left(t \\right)} \\sin{\\left(q_{2}{\\left(t \\right)} \\right)} \\cos{\\left(q_{1}{\\left(t \\right)} \\right)} + l_{3}{\\left(t \\right)} \\cos{\\left(q_{2}{\\left(t \\right)} + q_{3}{\\left(t \\right)} \\right)} \\cos{\\left(q_{1}{\\left(t \\right)} \\right)} + l_{4}{\\left(t \\right)} \\cos{\\left(q_{2}{\\left(t \\right)} + q_{3}{\\left(t \\right)} \\right)} \\cos{\\left(q_{1}{\\left(t \\right)} \\right)}\\\\- \\left(\\left(\\sin{\\left(q_{2}{\\left(t \\right)} + q_{3}{\\left(t \\right)} \\right)} \\sin{\\left(q_{1}{\\left(t \\right)} \\right)} \\cos{\\left(q_{4}{\\left(t \\right)} \\right)} - \\sin{\\left(q_{4}{\\left(t \\right)} \\right)} \\cos{\\left(q_{1}{\\left(t \\right)} \\right)}\\right) \\sin{\\left(q_{5}{\\left(t \\right)} \\right)} - \\sin{\\left(q_{1}{\\left(t \\right)} \\right)} \\cos{\\left(q_{2}{\\left(t \\right)} + q_{3}{\\left(t \\right)} \\right)} \\cos{\\left(q_{5}{\\left(t \\right)} \\right)}\\right) \\left(l_{5}{\\left(t \\right)} + \\operatorname{xE}{\\left(t \\right)}\\right) + \\left(\\left(\\sin{\\left(q_{2}{\\left(t \\right)} + q_{3}{\\left(t \\right)} \\right)} \\sin{\\left(q_{1}{\\left(t \\right)} \\right)} \\cos{\\left(q_{4}{\\left(t \\right)} \\right)} - \\sin{\\left(q_{4}{\\left(t \\right)} \\right)} \\cos{\\left(q_{1}{\\left(t \\right)} \\right)}\\right) \\cos{\\left(q_{5}{\\left(t \\right)} \\right)} + \\sin{\\left(q_{1}{\\left(t \\right)} \\right)} \\sin{\\left(q_{5}{\\left(t \\right)} \\right)} \\cos{\\left(q_{2}{\\left(t \\right)} + q_{3}{\\left(t \\right)} \\right)}\\right) \\operatorname{zE}{\\left(t \\right)} + \\left(\\sin{\\left(q_{2}{\\left(t \\right)} + q_{3}{\\left(t \\right)} \\right)} \\sin{\\left(q_{1}{\\left(t \\right)} \\right)} \\sin{\\left(q_{4}{\\left(t \\right)} \\right)} + \\cos{\\left(q_{1}{\\left(t \\right)} \\right)} \\cos{\\left(q_{4}{\\left(t \\right)} \\right)}\\right) \\operatorname{yE}{\\left(t \\right)} + l_{2}{\\left(t \\right)} \\sin{\\left(q_{1}{\\left(t \\right)} \\right)} \\sin{\\left(q_{2}{\\left(t \\right)} \\right)} + l_{3}{\\left(t \\right)} \\sin{\\left(q_{1}{\\left(t \\right)} \\right)} \\cos{\\left(q_{2}{\\left(t \\right)} + q_{3}{\\left(t \\right)} \\right)} + l_{4}{\\left(t \\right)} \\sin{\\left(q_{1}{\\left(t \\right)} \\right)} \\cos{\\left(q_{2}{\\left(t \\right)} + q_{3}{\\left(t \\right)} \\right)}\\\\- \\left(\\sin{\\left(q_{2}{\\left(t \\right)} + q_{3}{\\left(t \\right)} \\right)} \\sin{\\left(q_{5}{\\left(t \\right)} \\right)} - \\cos{\\left(q_{2}{\\left(t \\right)} + q_{3}{\\left(t \\right)} \\right)} \\cos{\\left(q_{4}{\\left(t \\right)} \\right)} \\cos{\\left(q_{5}{\\left(t \\right)} \\right)}\\right) \\operatorname{zE}{\\left(t \\right)} - \\left(\\sin{\\left(q_{2}{\\left(t \\right)} + q_{3}{\\left(t \\right)} \\right)} \\cos{\\left(q_{5}{\\left(t \\right)} \\right)} + \\sin{\\left(q_{5}{\\left(t \\right)} \\right)} \\cos{\\left(q_{2}{\\left(t \\right)} + q_{3}{\\left(t \\right)} \\right)} \\cos{\\left(q_{4}{\\left(t \\right)} \\right)}\\right) \\left(l_{5}{\\left(t \\right)} + \\operatorname{xE}{\\left(t \\right)}\\right) + l_{2}{\\left(t \\right)} \\cos{\\left(q_{2}{\\left(t \\right)} \\right)} - l_{3}{\\left(t \\right)} \\sin{\\left(q_{2}{\\left(t \\right)} + q_{3}{\\left(t \\right)} \\right)} - l_{4}{\\left(t \\right)} \\sin{\\left(q_{2}{\\left(t \\right)} + q_{3}{\\left(t \\right)} \\right)} + \\operatorname{yE}{\\left(t \\right)} \\sin{\\left(q_{4}{\\left(t \\right)} \\right)} \\cos{\\left(q_{2}{\\left(t \\right)} + q_{3}{\\left(t \\right)} \\right)}\\end{matrix}\\right]$"
      ],
      "text/plain": [
       "Matrix([\n",
       "[-((sin(q_2(t) + q_3(t))*cos(q_1(t))*cos(q_4(t)) + sin(q_1(t))*sin(q_4(t)))*sin(q_5(t)) - cos(q_2(t) + q_3(t))*cos(q_1(t))*cos(q_5(t)))*(l_5(t) + xE(t)) + ((sin(q_2(t) + q_3(t))*cos(q_1(t))*cos(q_4(t)) + sin(q_1(t))*sin(q_4(t)))*cos(q_5(t)) + sin(q_5(t))*cos(q_2(t) + q_3(t))*cos(q_1(t)))*zE(t) + (sin(q_2(t) + q_3(t))*sin(q_4(t))*cos(q_1(t)) - sin(q_1(t))*cos(q_4(t)))*yE(t) + l_2(t)*sin(q_2(t))*cos(q_1(t)) + l_3(t)*cos(q_2(t) + q_3(t))*cos(q_1(t)) + l_4(t)*cos(q_2(t) + q_3(t))*cos(q_1(t))],\n",
       "[-((sin(q_2(t) + q_3(t))*sin(q_1(t))*cos(q_4(t)) - sin(q_4(t))*cos(q_1(t)))*sin(q_5(t)) - sin(q_1(t))*cos(q_2(t) + q_3(t))*cos(q_5(t)))*(l_5(t) + xE(t)) + ((sin(q_2(t) + q_3(t))*sin(q_1(t))*cos(q_4(t)) - sin(q_4(t))*cos(q_1(t)))*cos(q_5(t)) + sin(q_1(t))*sin(q_5(t))*cos(q_2(t) + q_3(t)))*zE(t) + (sin(q_2(t) + q_3(t))*sin(q_1(t))*sin(q_4(t)) + cos(q_1(t))*cos(q_4(t)))*yE(t) + l_2(t)*sin(q_1(t))*sin(q_2(t)) + l_3(t)*sin(q_1(t))*cos(q_2(t) + q_3(t)) + l_4(t)*sin(q_1(t))*cos(q_2(t) + q_3(t))],\n",
       "[                                                                                                                                                                                    -(sin(q_2(t) + q_3(t))*sin(q_5(t)) - cos(q_2(t) + q_3(t))*cos(q_4(t))*cos(q_5(t)))*zE(t) - (sin(q_2(t) + q_3(t))*cos(q_5(t)) + sin(q_5(t))*cos(q_2(t) + q_3(t))*cos(q_4(t)))*(l_5(t) + xE(t)) + l_2(t)*cos(q_2(t)) - l_3(t)*sin(q_2(t) + q_3(t)) - l_4(t)*sin(q_2(t) + q_3(t)) + yE(t)*sin(q_4(t))*cos(q_2(t) + q_3(t))]])"
      ]
     },
     "metadata": {},
     "output_type": "display_data"
    }
   ],
   "source": [
    "I_r_I6 = I_r_I1 +  R_I1*S1_r_12 + R_I1*R_12*S2_r_23 + R_I1*R_12*R_23*S3_r_34 + R_I1*R_12*R_23*R_34*S4_r_45 + R_I1*R_12*R_23*R_34*R_45 * S5_r_56\n",
    "\n",
    "#I_r_I6 = sp.simplify(I_r_I6)\n",
    "display(I_r_I6)"
   ]
  },
  {
   "cell_type": "code",
   "execution_count": 8,
   "metadata": {},
   "outputs": [],
   "source": [
    "\n",
    "\n",
    "write_m_func(\"meine_VorKin\",[(sp.Symbol(\"x\"), I_r_I6[0]),(sp.Symbol(\"y\"), I_r_I6[1]),(sp.Symbol(\"z\"), I_r_I6[2])],[q.var_as_vec(), [l1,l2,l3,l4,l5,xE,yE,zE]])\n",
    "#write_init_prams(l,\"VorKin\",True)"
   ]
  }
 ],
 "metadata": {
  "kernelspec": {
   "display_name": "Python 3",
   "language": "python",
   "name": "python3"
  },
  "language_info": {
   "codemirror_mode": {
    "name": "ipython",
    "version": 3
   },
   "file_extension": ".py",
   "mimetype": "text/x-python",
   "name": "python",
   "nbconvert_exporter": "python",
   "pygments_lexer": "ipython3",
   "version": "3.11.0"
  },
  "orig_nbformat": 4
 },
 "nbformat": 4,
 "nbformat_minor": 2
}
