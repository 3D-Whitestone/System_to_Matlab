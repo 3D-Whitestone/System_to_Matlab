{
 "cells": [
  {
   "cell_type": "code",
   "execution_count": 1,
   "metadata": {},
   "outputs": [],
   "source": [
    "from Modules import DynamicSymbols, DynamicSymbol,  Drehmatrix, disp, StaticSystem, StaticSymbols\n",
    "import symengine as se\n",
    "import sympy as sp\n",
    "\n",
    "\n",
    "from symengine import atan2, sin, cos, asin, acos, pi\n",
    "se.init_printing()\n",
    "sp.init_printing(use_latex='mathjax')"
   ]
  },
  {
   "cell_type": "code",
   "execution_count": 2,
   "metadata": {},
   "outputs": [
    {
     "data": {
      "text/latex": [
       "$\\left[\\begin{matrix}\n",
       "xE_{}^{}\\left(t\\right) \\\\\n",
       "yE_{}^{}\\left(t\\right) \\\\\n",
       "zE_{}^{}\\left(t\\right) \\\\\n",
       "\\end{matrix}\\right]\n",
       "$"
      ],
      "text/plain": [
       "[xE_{}^{}(t)]\n",
       "[yE_{}^{}(t)]\n",
       "[zE_{}^{}(t)]"
      ]
     },
     "metadata": {},
     "output_type": "display_data"
    }
   ],
   "source": [
    "q = DynamicSymbol(\"q\",5,0)\n",
    "[q1,q2,q3,q4,q5] = q.vars\n",
    "\n",
    "[xE, yE, zE] = DynamicSymbols([\"xE\", \"yE\", \"zE\"],1,0)\n",
    "\n",
    "# phi_E = DynamicSymbols([r\"\\alpha\", r\"\\beta\",r\"\\gamma\"],1,0,True)\n",
    "# [alpha, beta, gamma] = phi_E.vars\n",
    "# R_IE = Drehmatrix([alpha,beta,gamma])\n",
    "\n",
    "rE = se.Matrix([xE, yE, zE])\n",
    "display(rE)"
   ]
  },
  {
   "cell_type": "code",
   "execution_count": 3,
   "metadata": {},
   "outputs": [],
   "source": [
    "R_I1 = Drehmatrix([0,0,q1])\n",
    "R_12 = Drehmatrix([0,q2 - pi/2,0])\n",
    "R_23 = Drehmatrix([0,q3 + pi/2,0])\n",
    "R_34 = Drehmatrix([q4,0,0])\n",
    "R_45 = Drehmatrix([0,q5,0])\n",
    "#R_56 = Drehmatrix([q6,0,0])"
   ]
  },
  {
   "cell_type": "code",
   "execution_count": 4,
   "metadata": {},
   "outputs": [
    {
     "data": {
      "text/latex": [
       "$l_{1}^{}$"
      ],
      "text/plain": [
       "l_{1}^{}"
      ]
     },
     "metadata": {},
     "output_type": "display_data"
    },
    {
     "data": {
      "text/latex": [
       "$l_{2}^{}$"
      ],
      "text/plain": [
       "l_{2}^{}"
      ]
     },
     "metadata": {},
     "output_type": "display_data"
    },
    {
     "data": {
      "text/latex": [
       "$l_{3}^{}$"
      ],
      "text/plain": [
       "l_{3}^{}"
      ]
     },
     "metadata": {},
     "output_type": "display_data"
    },
    {
     "data": {
      "text/latex": [
       "$l_{4}^{}$"
      ],
      "text/plain": [
       "l_{4}^{}"
      ]
     },
     "metadata": {},
     "output_type": "display_data"
    },
    {
     "data": {
      "text/latex": [
       "$l_{5}^{}$"
      ],
      "text/plain": [
       "l_{5}^{}"
      ]
     },
     "metadata": {},
     "output_type": "display_data"
    }
   ],
   "source": [
    "[l1,l2,l3,l4,l5] = StaticSymbols([\"l_1\",\"l_2\",\"l_3\",\"l_4\",\"l_5\"],1)\n",
    "#[l1,l2,l3,l4,l5] = se.symbols(\"l1:6\", real=True)\n",
    "display(l1,l2,l3,l4,l5)"
   ]
  },
  {
   "cell_type": "code",
   "execution_count": 5,
   "metadata": {},
   "outputs": [],
   "source": [
    "I_r_I1  = se.Matrix([0,0,0])\n",
    "S1_r_12 = se.Matrix([0,l1,0])\n",
    "S2_r_23 = se.Matrix([l2,-l1,0])\n",
    "S3_r_34 = se.Matrix([l3,0,0])\n",
    "S4_r_45 = se.Matrix([l4,0,0])\n",
    "S5_r_56 = se.Matrix([l5+xE,yE,zE])"
   ]
  },
  {
   "cell_type": "code",
   "execution_count": 6,
   "metadata": {},
   "outputs": [
    {
     "data": {
      "text/latex": [
       "$\\left[\\begin{matrix}\n",
       "\\left(l_{5}^{} + xE_{}^{}\\left(t\\right)\\right) \\left(-\\left(\\left(\\sin{\\left(q_{3}^{}\\left(t\\right)\\right)} \\cos{\\left(q_{2}^{}\\left(t\\right)\\right)} \\cos{\\left(q_{1}^{}\\left(t\\right)\\right)} + \\cos{\\left(q_{3}^{}\\left(t\\right)\\right)} \\sin{\\left(q_{2}^{}\\left(t\\right)\\right)} \\cos{\\left(q_{1}^{}\\left(t\\right)\\right)}\\right) \\cos{\\left(q_{4}^{}\\left(t\\right)\\right)} + \\sin{\\left(q_{4}^{}\\left(t\\right)\\right)} \\sin{\\left(q_{1}^{}\\left(t\\right)\\right)}\\right) \\sin{\\left(q_{5}^{}\\left(t\\right)\\right)} + \\left(-\\sin{\\left(q_{3}^{}\\left(t\\right)\\right)} \\sin{\\left(q_{2}^{}\\left(t\\right)\\right)} \\cos{\\left(q_{1}^{}\\left(t\\right)\\right)} + \\cos{\\left(q_{3}^{}\\left(t\\right)\\right)} \\cos{\\left(q_{2}^{}\\left(t\\right)\\right)} \\cos{\\left(q_{1}^{}\\left(t\\right)\\right)}\\right) \\cos{\\left(q_{5}^{}\\left(t\\right)\\right)}\\right) + \\left(\\left(\\left(\\sin{\\left(q_{3}^{}\\left(t\\right)\\right)} \\cos{\\left(q_{2}^{}\\left(t\\right)\\right)} \\cos{\\left(q_{1}^{}\\left(t\\right)\\right)} + \\cos{\\left(q_{3}^{}\\left(t\\right)\\right)} \\sin{\\left(q_{2}^{}\\left(t\\right)\\right)} \\cos{\\left(q_{1}^{}\\left(t\\right)\\right)}\\right) \\cos{\\left(q_{4}^{}\\left(t\\right)\\right)} + \\sin{\\left(q_{4}^{}\\left(t\\right)\\right)} \\sin{\\left(q_{1}^{}\\left(t\\right)\\right)}\\right) \\cos{\\left(q_{5}^{}\\left(t\\right)\\right)} + \\left(-\\sin{\\left(q_{3}^{}\\left(t\\right)\\right)} \\sin{\\left(q_{2}^{}\\left(t\\right)\\right)} \\cos{\\left(q_{1}^{}\\left(t\\right)\\right)} + \\cos{\\left(q_{3}^{}\\left(t\\right)\\right)} \\cos{\\left(q_{2}^{}\\left(t\\right)\\right)} \\cos{\\left(q_{1}^{}\\left(t\\right)\\right)}\\right) \\sin{\\left(q_{5}^{}\\left(t\\right)\\right)}\\right) zE_{}^{}\\left(t\\right) + \\left(\\left(\\sin{\\left(q_{3}^{}\\left(t\\right)\\right)} \\cos{\\left(q_{2}^{}\\left(t\\right)\\right)} \\cos{\\left(q_{1}^{}\\left(t\\right)\\right)} + \\cos{\\left(q_{3}^{}\\left(t\\right)\\right)} \\sin{\\left(q_{2}^{}\\left(t\\right)\\right)} \\cos{\\left(q_{1}^{}\\left(t\\right)\\right)}\\right) \\sin{\\left(q_{4}^{}\\left(t\\right)\\right)} - \\cos{\\left(q_{4}^{}\\left(t\\right)\\right)} \\sin{\\left(q_{1}^{}\\left(t\\right)\\right)}\\right) yE_{}^{}\\left(t\\right) + \\left(-\\sin{\\left(q_{3}^{}\\left(t\\right)\\right)} \\sin{\\left(q_{2}^{}\\left(t\\right)\\right)} \\cos{\\left(q_{1}^{}\\left(t\\right)\\right)} + \\cos{\\left(q_{3}^{}\\left(t\\right)\\right)} \\cos{\\left(q_{2}^{}\\left(t\\right)\\right)} \\cos{\\left(q_{1}^{}\\left(t\\right)\\right)}\\right) l_{3}^{} + \\left(-\\sin{\\left(q_{3}^{}\\left(t\\right)\\right)} \\sin{\\left(q_{2}^{}\\left(t\\right)\\right)} \\cos{\\left(q_{1}^{}\\left(t\\right)\\right)} + \\cos{\\left(q_{3}^{}\\left(t\\right)\\right)} \\cos{\\left(q_{2}^{}\\left(t\\right)\\right)} \\cos{\\left(q_{1}^{}\\left(t\\right)\\right)}\\right) l_{4}^{} + l_{2}^{} \\sin{\\left(q_{2}^{}\\left(t\\right)\\right)} \\cos{\\left(q_{1}^{}\\left(t\\right)\\right)} \\\\\n",
       "\\left(-\\left(\\left(\\sin{\\left(q_{3}^{}\\left(t\\right)\\right)} \\cos{\\left(q_{2}^{}\\left(t\\right)\\right)} \\sin{\\left(q_{1}^{}\\left(t\\right)\\right)} + \\cos{\\left(q_{3}^{}\\left(t\\right)\\right)} \\sin{\\left(q_{2}^{}\\left(t\\right)\\right)} \\sin{\\left(q_{1}^{}\\left(t\\right)\\right)}\\right) \\cos{\\left(q_{4}^{}\\left(t\\right)\\right)} - \\sin{\\left(q_{4}^{}\\left(t\\right)\\right)} \\cos{\\left(q_{1}^{}\\left(t\\right)\\right)}\\right) \\sin{\\left(q_{5}^{}\\left(t\\right)\\right)} + \\left(-\\sin{\\left(q_{3}^{}\\left(t\\right)\\right)} \\sin{\\left(q_{2}^{}\\left(t\\right)\\right)} \\sin{\\left(q_{1}^{}\\left(t\\right)\\right)} + \\cos{\\left(q_{3}^{}\\left(t\\right)\\right)} \\cos{\\left(q_{2}^{}\\left(t\\right)\\right)} \\sin{\\left(q_{1}^{}\\left(t\\right)\\right)}\\right) \\cos{\\left(q_{5}^{}\\left(t\\right)\\right)}\\right) \\left(l_{5}^{} + xE_{}^{}\\left(t\\right)\\right) + \\left(\\left(\\left(\\sin{\\left(q_{3}^{}\\left(t\\right)\\right)} \\cos{\\left(q_{2}^{}\\left(t\\right)\\right)} \\sin{\\left(q_{1}^{}\\left(t\\right)\\right)} + \\cos{\\left(q_{3}^{}\\left(t\\right)\\right)} \\sin{\\left(q_{2}^{}\\left(t\\right)\\right)} \\sin{\\left(q_{1}^{}\\left(t\\right)\\right)}\\right) \\cos{\\left(q_{4}^{}\\left(t\\right)\\right)} - \\sin{\\left(q_{4}^{}\\left(t\\right)\\right)} \\cos{\\left(q_{1}^{}\\left(t\\right)\\right)}\\right) \\cos{\\left(q_{5}^{}\\left(t\\right)\\right)} + \\left(-\\sin{\\left(q_{3}^{}\\left(t\\right)\\right)} \\sin{\\left(q_{2}^{}\\left(t\\right)\\right)} \\sin{\\left(q_{1}^{}\\left(t\\right)\\right)} + \\cos{\\left(q_{3}^{}\\left(t\\right)\\right)} \\cos{\\left(q_{2}^{}\\left(t\\right)\\right)} \\sin{\\left(q_{1}^{}\\left(t\\right)\\right)}\\right) \\sin{\\left(q_{5}^{}\\left(t\\right)\\right)}\\right) zE_{}^{}\\left(t\\right) + \\left(\\left(\\sin{\\left(q_{3}^{}\\left(t\\right)\\right)} \\cos{\\left(q_{2}^{}\\left(t\\right)\\right)} \\sin{\\left(q_{1}^{}\\left(t\\right)\\right)} + \\cos{\\left(q_{3}^{}\\left(t\\right)\\right)} \\sin{\\left(q_{2}^{}\\left(t\\right)\\right)} \\sin{\\left(q_{1}^{}\\left(t\\right)\\right)}\\right) \\sin{\\left(q_{4}^{}\\left(t\\right)\\right)} + \\cos{\\left(q_{4}^{}\\left(t\\right)\\right)} \\cos{\\left(q_{1}^{}\\left(t\\right)\\right)}\\right) yE_{}^{}\\left(t\\right) + \\left(-\\sin{\\left(q_{3}^{}\\left(t\\right)\\right)} \\sin{\\left(q_{2}^{}\\left(t\\right)\\right)} \\sin{\\left(q_{1}^{}\\left(t\\right)\\right)} + \\cos{\\left(q_{3}^{}\\left(t\\right)\\right)} \\cos{\\left(q_{2}^{}\\left(t\\right)\\right)} \\sin{\\left(q_{1}^{}\\left(t\\right)\\right)}\\right) l_{3}^{} + \\left(-\\sin{\\left(q_{3}^{}\\left(t\\right)\\right)} \\sin{\\left(q_{2}^{}\\left(t\\right)\\right)} \\sin{\\left(q_{1}^{}\\left(t\\right)\\right)} + \\cos{\\left(q_{3}^{}\\left(t\\right)\\right)} \\cos{\\left(q_{2}^{}\\left(t\\right)\\right)} \\sin{\\left(q_{1}^{}\\left(t\\right)\\right)}\\right) l_{4}^{} + l_{2}^{} \\sin{\\left(q_{2}^{}\\left(t\\right)\\right)} \\sin{\\left(q_{1}^{}\\left(t\\right)\\right)} \\\\\n",
       "l_{2}^{} \\cos{\\left(q_{2}^{}\\left(t\\right)\\right)} + \\left(\\left(-\\sin{\\left(q_{3}^{}\\left(t\\right)\\right)} \\cos{\\left(q_{2}^{}\\left(t\\right)\\right)} - \\cos{\\left(q_{3}^{}\\left(t\\right)\\right)} \\sin{\\left(q_{2}^{}\\left(t\\right)\\right)}\\right) \\sin{\\left(q_{5}^{}\\left(t\\right)\\right)} + \\left(-\\sin{\\left(q_{3}^{}\\left(t\\right)\\right)} \\sin{\\left(q_{2}^{}\\left(t\\right)\\right)} + \\cos{\\left(q_{3}^{}\\left(t\\right)\\right)} \\cos{\\left(q_{2}^{}\\left(t\\right)\\right)}\\right) \\cos{\\left(q_{4}^{}\\left(t\\right)\\right)} \\cos{\\left(q_{5}^{}\\left(t\\right)\\right)}\\right) zE_{}^{}\\left(t\\right) + \\left(\\left(-\\sin{\\left(q_{3}^{}\\left(t\\right)\\right)} \\cos{\\left(q_{2}^{}\\left(t\\right)\\right)} - \\cos{\\left(q_{3}^{}\\left(t\\right)\\right)} \\sin{\\left(q_{2}^{}\\left(t\\right)\\right)}\\right) \\cos{\\left(q_{5}^{}\\left(t\\right)\\right)} - \\left(-\\sin{\\left(q_{3}^{}\\left(t\\right)\\right)} \\sin{\\left(q_{2}^{}\\left(t\\right)\\right)} + \\cos{\\left(q_{3}^{}\\left(t\\right)\\right)} \\cos{\\left(q_{2}^{}\\left(t\\right)\\right)}\\right) \\cos{\\left(q_{4}^{}\\left(t\\right)\\right)} \\sin{\\left(q_{5}^{}\\left(t\\right)\\right)}\\right) \\left(l_{5}^{} + xE_{}^{}\\left(t\\right)\\right) + \\left(-\\sin{\\left(q_{3}^{}\\left(t\\right)\\right)} \\cos{\\left(q_{2}^{}\\left(t\\right)\\right)} - \\cos{\\left(q_{3}^{}\\left(t\\right)\\right)} \\sin{\\left(q_{2}^{}\\left(t\\right)\\right)}\\right) l_{3}^{} + \\left(-\\sin{\\left(q_{3}^{}\\left(t\\right)\\right)} \\cos{\\left(q_{2}^{}\\left(t\\right)\\right)} - \\cos{\\left(q_{3}^{}\\left(t\\right)\\right)} \\sin{\\left(q_{2}^{}\\left(t\\right)\\right)}\\right) l_{4}^{} + \\left(-\\sin{\\left(q_{3}^{}\\left(t\\right)\\right)} \\sin{\\left(q_{2}^{}\\left(t\\right)\\right)} + \\cos{\\left(q_{3}^{}\\left(t\\right)\\right)} \\cos{\\left(q_{2}^{}\\left(t\\right)\\right)}\\right) \\sin{\\left(q_{4}^{}\\left(t\\right)\\right)} yE_{}^{}\\left(t\\right) \\\\\n",
       "\\end{matrix}\\right]\n",
       "$"
      ],
      "text/plain": [
       "[(l_{5}^{} + xE_{}^{}(t))*(-((sin(q_{3}^{}(t))*cos(q_{2}^{}(t))*cos(q_{1}^{}(t)) + cos(q_{3}^{}(t))*sin(q_{2}^{}(t))*cos(q_{1}^{}(t)))*cos(q_{4}^{}(t)) + sin(q_{4}^{}(t))*sin(q_{1}^{}(t)))*sin(q_{5}^{}(t)) + (-sin(q_{3}^{}(t))*sin(q_{2}^{}(t))*cos(q_{1}^{}(t)) + cos(q_{3}^{}(t))*cos(q_{2}^{}(t))*cos(q_{1}^{}(t)))*cos(q_{5}^{}(t))) + (((sin(q_{3}^{}(t))*cos(q_{2}^{}(t))*cos(q_{1}^{}(t)) + cos(q_{3}^{}(t))*sin(q_{2}^{}(t))*cos(q_{1}^{}(t)))*cos(q_{4}^{}(t)) + sin(q_{4}^{}(t))*sin(q_{1}^{}(t)))*cos(q_{5}^{}(t)) + (-sin(q_{3}^{}(t))*sin(q_{2}^{}(t))*cos(q_{1}^{}(t)) + cos(q_{3}^{}(t))*cos(q_{2}^{}(t))*cos(q_{1}^{}(t)))*sin(q_{5}^{}(t)))*zE_{}^{}(t) + ((sin(q_{3}^{}(t))*cos(q_{2}^{}(t))*cos(q_{1}^{}(t)) + cos(q_{3}^{}(t))*sin(q_{2}^{}(t))*cos(q_{1}^{}(t)))*sin(q_{4}^{}(t)) - cos(q_{4}^{}(t))*sin(q_{1}^{}(t)))*yE_{}^{}(t) + (-sin(q_{3}^{}(t))*sin(q_{2}^{}(t))*cos(q_{1}^{}(t)) + cos(q_{3}^{}(t))*cos(q_{2}^{}(t))*cos(q_{1}^{}(t)))*l_{3}^{} + (-sin(q_{3}^{}(t))*sin(q_{2}^{}(t))*cos(q_{1}^{}(t)) + cos(q_{3}^{}(t))*cos(q_{2}^{}(t))*cos(q_{1}^{}(t)))*l_{4}^{} + l_{2}^{}*sin(q_{2}^{}(t))*cos(q_{1}^{}(t))]\n",
       "[(-((sin(q_{3}^{}(t))*cos(q_{2}^{}(t))*sin(q_{1}^{}(t)) + cos(q_{3}^{}(t))*sin(q_{2}^{}(t))*sin(q_{1}^{}(t)))*cos(q_{4}^{}(t)) - sin(q_{4}^{}(t))*cos(q_{1}^{}(t)))*sin(q_{5}^{}(t)) + (-sin(q_{3}^{}(t))*sin(q_{2}^{}(t))*sin(q_{1}^{}(t)) + cos(q_{3}^{}(t))*cos(q_{2}^{}(t))*sin(q_{1}^{}(t)))*cos(q_{5}^{}(t)))*(l_{5}^{} + xE_{}^{}(t)) + (((sin(q_{3}^{}(t))*cos(q_{2}^{}(t))*sin(q_{1}^{}(t)) + cos(q_{3}^{}(t))*sin(q_{2}^{}(t))*sin(q_{1}^{}(t)))*cos(q_{4}^{}(t)) - sin(q_{4}^{}(t))*cos(q_{1}^{}(t)))*cos(q_{5}^{}(t)) + (-sin(q_{3}^{}(t))*sin(q_{2}^{}(t))*sin(q_{1}^{}(t)) + cos(q_{3}^{}(t))*cos(q_{2}^{}(t))*sin(q_{1}^{}(t)))*sin(q_{5}^{}(t)))*zE_{}^{}(t) + ((sin(q_{3}^{}(t))*cos(q_{2}^{}(t))*sin(q_{1}^{}(t)) + cos(q_{3}^{}(t))*sin(q_{2}^{}(t))*sin(q_{1}^{}(t)))*sin(q_{4}^{}(t)) + cos(q_{4}^{}(t))*cos(q_{1}^{}(t)))*yE_{}^{}(t) + (-sin(q_{3}^{}(t))*sin(q_{2}^{}(t))*sin(q_{1}^{}(t)) + cos(q_{3}^{}(t))*cos(q_{2}^{}(t))*sin(q_{1}^{}(t)))*l_{3}^{} + (-sin(q_{3}^{}(t))*sin(q_{2}^{}(t))*sin(q_{1}^{}(t)) + cos(q_{3}^{}(t))*cos(q_{2}^{}(t))*sin(q_{1}^{}(t)))*l_{4}^{} + l_{2}^{}*sin(q_{2}^{}(t))*sin(q_{1}^{}(t))]\n",
       "[l_{2}^{}*cos(q_{2}^{}(t)) + ((-sin(q_{3}^{}(t))*cos(q_{2}^{}(t)) - cos(q_{3}^{}(t))*sin(q_{2}^{}(t)))*sin(q_{5}^{}(t)) + (-sin(q_{3}^{}(t))*sin(q_{2}^{}(t)) + cos(q_{3}^{}(t))*cos(q_{2}^{}(t)))*cos(q_{4}^{}(t))*cos(q_{5}^{}(t)))*zE_{}^{}(t) + ((-sin(q_{3}^{}(t))*cos(q_{2}^{}(t)) - cos(q_{3}^{}(t))*sin(q_{2}^{}(t)))*cos(q_{5}^{}(t)) - (-sin(q_{3}^{}(t))*sin(q_{2}^{}(t)) + cos(q_{3}^{}(t))*cos(q_{2}^{}(t)))*cos(q_{4}^{}(t))*sin(q_{5}^{}(t)))*(l_{5}^{} + xE_{}^{}(t)) + (-sin(q_{3}^{}(t))*cos(q_{2}^{}(t)) - cos(q_{3}^{}(t))*sin(q_{2}^{}(t)))*l_{3}^{} + (-sin(q_{3}^{}(t))*cos(q_{2}^{}(t)) - cos(q_{3}^{}(t))*sin(q_{2}^{}(t)))*l_{4}^{} + (-sin(q_{3}^{}(t))*sin(q_{2}^{}(t)) + cos(q_{3}^{}(t))*cos(q_{2}^{}(t)))*sin(q_{4}^{}(t))*yE_{}^{}(t)]"
      ]
     },
     "metadata": {},
     "output_type": "display_data"
    }
   ],
   "source": [
    "I_r_I6 = I_r_I1 +  R_I1*S1_r_12 + R_I1*R_12*S2_r_23 + R_I1*R_12*R_23*S3_r_34 + R_I1*R_12*R_23*R_34*S4_r_45 + R_I1*R_12*R_23*R_34*R_45 * S5_r_56\n",
    "\n",
    "#I_r_I6 = sp.simplify(I_r_I6)\n",
    "display(I_r_I6)"
   ]
  },
  {
   "cell_type": "code",
   "execution_count": 7,
   "metadata": {},
   "outputs": [],
   "source": [
    "sys = StaticSystem()\n",
    "sys.addParameter([l1,l2,l3,l4,l5])"
   ]
  },
  {
   "cell_type": "code",
   "execution_count": 8,
   "metadata": {},
   "outputs": [
    {
     "ename": "NameError",
     "evalue": "name 'write_m_func' is not defined",
     "output_type": "error",
     "traceback": [
      "\u001b[1;31m---------------------------------------------------------------------------\u001b[0m",
      "\u001b[1;31mNameError\u001b[0m                                 Traceback (most recent call last)",
      "Cell \u001b[1;32mIn[8], line 1\u001b[0m\n\u001b[1;32m----> 1\u001b[0m write_m_func(\u001b[39m\"\u001b[39m\u001b[39mmeine_VorKin\u001b[39m\u001b[39m\"\u001b[39m,[(sp\u001b[39m.\u001b[39mSymbol(\u001b[39m\"\u001b[39m\u001b[39mx\u001b[39m\u001b[39m\"\u001b[39m), I_r_I6[\u001b[39m0\u001b[39m]),(sp\u001b[39m.\u001b[39mSymbol(\u001b[39m\"\u001b[39m\u001b[39my\u001b[39m\u001b[39m\"\u001b[39m), I_r_I6[\u001b[39m1\u001b[39m]),(sp\u001b[39m.\u001b[39mSymbol(\u001b[39m\"\u001b[39m\u001b[39mz\u001b[39m\u001b[39m\"\u001b[39m), I_r_I6[\u001b[39m2\u001b[39m])],[q\u001b[39m.\u001b[39mvar_as_vec(), [l1,l2,l3,l4,l5,xE,yE,zE]])\n\u001b[0;32m      2\u001b[0m \u001b[39m#write_init_prams(l,\"VorKin\",True)\u001b[39;00m\n",
      "\u001b[1;31mNameError\u001b[0m: name 'write_m_func' is not defined"
     ]
    }
   ],
   "source": [
    "write_m_func(\"meine_VorKin\",[(sp.Symbol(\"x\"), I_r_I6[0]),(sp.Symbol(\"y\"), I_r_I6[1]),(sp.Symbol(\"z\"), I_r_I6[2])],[q.var_as_vec(), [l1,l2,l3,l4,l5,xE,yE,zE]])\n",
    "#write_init_prams(l,\"VorKin\",True)"
   ]
  }
 ],
 "metadata": {
  "kernelspec": {
   "display_name": "Python 3",
   "language": "python",
   "name": "python3"
  },
  "language_info": {
   "codemirror_mode": {
    "name": "ipython",
    "version": 3
   },
   "file_extension": ".py",
   "mimetype": "text/x-python",
   "name": "python",
   "nbconvert_exporter": "python",
   "pygments_lexer": "ipython3",
   "version": "3.11.0"
  },
  "orig_nbformat": 4
 },
 "nbformat": 4,
 "nbformat_minor": 2
}
