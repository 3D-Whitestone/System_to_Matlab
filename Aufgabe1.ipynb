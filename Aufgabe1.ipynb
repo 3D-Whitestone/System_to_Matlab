{
 "cells": [
  {
   "cell_type": "code",
   "execution_count": 1,
   "metadata": {},
   "outputs": [],
   "source": [
    "%reload_ext autoreload\n",
    "%autoreload 2\n",
    "\n",
    "import sympy as sp\n",
    "import symengine as se\n",
    "from Modules import StaticSystem ,StaticSymbol\n",
    "\n",
    "se.init_printing()"
   ]
  },
  {
   "cell_type": "code",
   "execution_count": 2,
   "metadata": {},
   "outputs": [
    {
     "data": {
      "text/latex": [
       "$\\left[\\begin{matrix}\n",
       "x_{4} + x_{3}^2 + 2 e^{-x_{2}} + e^{2 x_{1}} \\\\\n",
       "\\end{matrix}\\right]\n",
       "$"
      ],
      "text/plain": [
       "[x_{4} + x_{3}**2 + 2*exp(-x_{2}) + exp(2*x_{1})]"
      ]
     },
     "metadata": {},
     "output_type": "display_data"
    },
    {
     "data": {
      "text/latex": [
       "$\\left[\\begin{matrix}\n",
       "2 e^{2 x_{1}} & -2 e^{-x_{2}} & 2 x_{3} & 1 \\\\\n",
       "\\end{matrix}\\right]\n",
       "$"
      ],
      "text/plain": [
       "[2*exp(2*x_{1}), -2*exp(-x_{2}), 2*x_{3}, 1]"
      ]
     },
     "metadata": {},
     "output_type": "display_data"
    },
    {
     "data": {
      "text/latex": [
       "$\\left[\\begin{matrix}\n",
       "4 e^{2 x_{1}} & 0 & 0 & 0 \\\\\n",
       "0 & 2 e^{-x_{2}} & 0 & 0 \\\\\n",
       "0 & 0 & 2 & 0 \\\\\n",
       "0 & 0 & 0 & 0 \\\\\n",
       "\\end{matrix}\\right]\n",
       "$"
      ],
      "text/plain": [
       "[4*exp(2*x_{1}), 0, 0, 0]\n",
       "[0, 2*exp(-x_{2}), 0, 0]\n",
       "[0, 0, 2, 0]\n",
       "[0, 0, 0, 0]"
      ]
     },
     "metadata": {},
     "output_type": "display_data"
    }
   ],
   "source": [
    "x1, x2, x3, x4 = StaticSymbol(\"x\",4).vars\n",
    "\n",
    "f = se.sympify(sp.Matrix([sp.exp(2*x1) + 2 * sp.exp(-x2) + x3**2 + x4]))\n",
    "g = se.sympify(f.jacobian(se.Matrix([x1, x2, x3, x4])))\n",
    "h = se.sympify(sp.hessian(f,[x1, x2, x3, x4]))\n",
    "\n",
    "\n",
    "\n",
    "display(f,g, h)"
   ]
  },
  {
   "cell_type": "code",
   "execution_count": 3,
   "metadata": {},
   "outputs": [
    {
     "data": {
      "text/latex": [
       "$\\left[\\begin{matrix}\n",
       "1 & 0 & 2 & 2 \\\\\n",
       "3 & -1 & 0 & -1 \\\\\n",
       "\\end{matrix}\\right]\n",
       "$"
      ],
      "text/plain": [
       "[1, 0, 2, 2]\n",
       "[3, -1, 0, -1]"
      ]
     },
     "metadata": {},
     "output_type": "display_data"
    }
   ],
   "source": [
    "A = se.Matrix([[1,0,2,2],[3,-1,0,-1]])\n",
    "display(A)"
   ]
  },
  {
   "cell_type": "code",
   "execution_count": 4,
   "metadata": {},
   "outputs": [
    {
     "data": {
      "text/latex": [
       "$\\left[\\begin{matrix}\n",
       "4 e^{2 x_{1}} & 0 & 0 & 0 & 1 & 3 \\\\\n",
       "0 & 2 e^{-x_{2}} & 0 & 0 & 0 & -1 \\\\\n",
       "0 & 0 & 2 & 0 & 2 & 0 \\\\\n",
       "0 & 0 & 0 & 0 & 2 & -1 \\\\\n",
       "1 & 0 & 2 & 2 & 0 & 0 \\\\\n",
       "3 & -1 & 0 & -1 & 0 & 0 \\\\\n",
       "\\end{matrix}\\right]\n",
       "$"
      ],
      "text/plain": [
       "[4*exp(2*x_{1}), 0, 0, 0, 1, 3]\n",
       "[0, 2*exp(-x_{2}), 0, 0, 0, -1]\n",
       "[0, 0, 2, 0, 2, 0]\n",
       "[0, 0, 0, 0, 2, -1]\n",
       "[1, 0, 2, 2, 0, 0]\n",
       "[3, -1, 0, -1, 0, 0]"
      ]
     },
     "metadata": {},
     "output_type": "display_data"
    }
   ],
   "source": [
    "KKT = h.row_join(A.T).col_join(A.row_join(se.zeros(2,2)))\n",
    "\n",
    "display(KKT)"
   ]
  },
  {
   "cell_type": "code",
   "execution_count": 5,
   "metadata": {},
   "outputs": [
    {
     "data": {
      "text/latex": [
       "$\\left[\\begin{matrix}\n",
       "-1 + 0.5 x_{2}^2 + 0.5 x_{3}^2 + \\left(-0.2 + x_{4}\\right)^2 + \\left(0.1 + x_{1}\\right)^2 \\\\\n",
       "-1 + 0.1 x_{3}^2 + x_{4}^2 + \\left(-1 + x_{1}\\right)^2 + 0.1 \\left(-1 + x_{2}\\right)^2 \\\\\n",
       "\\end{matrix}\\right]\n",
       "$"
      ],
      "text/plain": [
       "[-1 + 0.5*x_{2}**2 + 0.5*x_{3}**2 + (-0.2 + x_{4})**2 + (0.1 + x_{1})**2]\n",
       "[-1 + 0.1*x_{3}**2 + x_{4}**2 + (-1 + x_{1})**2 + 0.1*(-1 + x_{2})**2]"
      ]
     },
     "metadata": {},
     "output_type": "display_data"
    }
   ],
   "source": [
    "h1 = (x1 + 0.1)**2 + 0.5*x2**2 + 0.5*x3**2 + (x4 - 0.2)**2 - 1\n",
    "h2 = (x1 - 1)**2 + 0.1*(x2 - 1)**2 + 0.1*x3**2 + x4**2 - 1\n",
    "\n",
    "h = se.Matrix([h1,h2])\n",
    "display(h)"
   ]
  },
  {
   "cell_type": "code",
   "execution_count": 6,
   "metadata": {},
   "outputs": [],
   "source": [
    "sys = StaticSystem()\n",
    "\n",
    "sys.addInput(se.Matrix([x1,x2,x3,x4]),'x')\n",
    "sys.addOutput(f,'f')\n",
    "sys.addOutput(g,'g')\n",
    "sys.addOutput(KKT,'KKT')\n",
    "sys.addOutput(h,'h')\n",
    "sys.write_MFunctions(\"problem\")"
   ]
  }
 ],
 "metadata": {
  "kernelspec": {
   "display_name": "Python 3",
   "language": "python",
   "name": "python3"
  },
  "language_info": {
   "codemirror_mode": {
    "name": "ipython",
    "version": 3
   },
   "file_extension": ".py",
   "mimetype": "text/x-python",
   "name": "python",
   "nbconvert_exporter": "python",
   "pygments_lexer": "ipython3",
   "version": "3.11.4"
  },
  "orig_nbformat": 4
 },
 "nbformat": 4,
 "nbformat_minor": 2
}
