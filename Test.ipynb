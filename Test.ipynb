{
 "cells": [
  {
   "cell_type": "code",
   "execution_count": 2,
   "metadata": {},
   "outputs": [],
   "source": [
    "import symengine as se\n",
    "import sympy as sp\n",
    "\n",
    "from Modules.FileGenerators.MatlabElements import CodeElement\n",
    "from Modules.HelperFunctions.RobotikHelperFuncitons import Drehmatrix\n",
    "\n",
    "se.init_printing(pretty_print=True)\n",
    "sp.init_printing(use_latex='mathjax')"
   ]
  },
  {
   "cell_type": "code",
   "execution_count": 3,
   "metadata": {},
   "outputs": [
    {
     "data": {
      "text/plain": [
       "[(x0, a**(1 + b)),\n",
       " (x1, cos(x0)),\n",
       " (x2, a + b**2),\n",
       " (x3, cos(x2)),\n",
       " (x4, cos(a)),\n",
       " (x5, sin(x0)),\n",
       " (x6, x4*x5),\n",
       " (x7, sin(x2)),\n",
       " (x8, sin(a)),\n",
       " (x9, x1*x8),\n",
       " (x10, x5*x8),\n",
       " (x11, x1*x4)]"
      ]
     },
     "metadata": {},
     "output_type": "display_data"
    },
    {
     "data": {
      "text/plain": [
       "[x1*x3,\n",
       " -x6 + x7*x9,\n",
       " x10 + x7*x11,\n",
       " x3*x5,\n",
       " x11 + x7*x10,\n",
       " -x9 + x6*x7,\n",
       " -x7,\n",
       " x3*x8,\n",
       " x4*x3]"
      ]
     },
     "metadata": {},
     "output_type": "display_data"
    },
    {
     "data": {
      "text/latex": [
       "$\\left[\\begin{matrix}\n",
       "\\cos{\\left(a^{1 + b}\\right)} \\cos{\\left(a + b^2\\right)} & -\\cos{\\left(a\\right)} \\sin{\\left(a^{1 + b}\\right)} + \\sin{\\left(a\\right)} \\cos{\\left(a^{1 + b}\\right)} \\sin{\\left(a + b^2\\right)} & \\sin{\\left(a\\right)} \\sin{\\left(a^{1 + b}\\right)} + \\cos{\\left(a\\right)} \\cos{\\left(a^{1 + b}\\right)} \\sin{\\left(a + b^2\\right)} \\\\\n",
       "\\sin{\\left(a^{1 + b}\\right)} \\cos{\\left(a + b^2\\right)} & \\cos{\\left(a\\right)} \\cos{\\left(a^{1 + b}\\right)} + \\sin{\\left(a\\right)} \\sin{\\left(a^{1 + b}\\right)} \\sin{\\left(a + b^2\\right)} & -\\sin{\\left(a\\right)} \\cos{\\left(a^{1 + b}\\right)} + \\cos{\\left(a\\right)} \\sin{\\left(a^{1 + b}\\right)} \\sin{\\left(a + b^2\\right)} \\\\\n",
       "-\\sin{\\left(a + b^2\\right)} & \\sin{\\left(a\\right)} \\cos{\\left(a + b^2\\right)} & \\cos{\\left(a\\right)} \\cos{\\left(a + b^2\\right)} \\\\\n",
       "\\end{matrix}\\right]\n",
       "$"
      ],
      "text/plain": [
       "[cos(a**(1 + b))*cos(a + b**2), -cos(a)*sin(a**(1 + b)) + sin(a)*cos(a**(1 + b))*sin(a + b**2), sin(a)*sin(a**(1 + b)) + cos(a)*cos(a**(1 + b))*sin(a + b**2)]\n",
       "[sin(a**(1 + b))*cos(a + b**2), cos(a)*cos(a**(1 + b)) + sin(a)*sin(a**(1 + b))*sin(a + b**2), -sin(a)*cos(a**(1 + b)) + cos(a)*sin(a**(1 + b))*sin(a + b**2)]\n",
       "[-sin(a + b**2), sin(a)*cos(a + b**2), cos(a)*cos(a + b**2)]"
      ]
     },
     "metadata": {},
     "output_type": "display_data"
    },
    {
     "data": {
      "text/latex": [
       "$\\displaystyle \\left[\\begin{matrix}\\cos{\\left(a^{b + 1} \\right)} \\cos{\\left(a + b^{2} \\right)} & \\sin{\\left(a \\right)} \\sin{\\left(a + b^{2} \\right)} \\cos{\\left(a^{b + 1} \\right)} - \\sin{\\left(a^{b + 1} \\right)} \\cos{\\left(a \\right)} & \\sin{\\left(a \\right)} \\sin{\\left(a^{b + 1} \\right)} + \\sin{\\left(a + b^{2} \\right)} \\cos{\\left(a \\right)} \\cos{\\left(a^{b + 1} \\right)}\\\\\\sin{\\left(a^{b + 1} \\right)} \\cos{\\left(a + b^{2} \\right)} & \\sin{\\left(a \\right)} \\sin{\\left(a^{b + 1} \\right)} \\sin{\\left(a + b^{2} \\right)} + \\cos{\\left(a \\right)} \\cos{\\left(a^{b + 1} \\right)} & - \\sin{\\left(a \\right)} \\cos{\\left(a^{b + 1} \\right)} + \\sin{\\left(a^{b + 1} \\right)} \\sin{\\left(a + b^{2} \\right)} \\cos{\\left(a \\right)}\\\\- \\sin{\\left(a + b^{2} \\right)} & \\sin{\\left(a \\right)} \\cos{\\left(a + b^{2} \\right)} & \\cos{\\left(a \\right)} \\cos{\\left(a + b^{2} \\right)}\\end{matrix}\\right]$"
      ],
      "text/plain": [
       "⎡   ⎛ b + 1⎞    ⎛     2⎞            ⎛     2⎞    ⎛ b + 1⎞      ⎛ b + 1⎞        \n",
       "⎢cos⎝a     ⎠⋅cos⎝a + b ⎠  sin(a)⋅sin⎝a + b ⎠⋅cos⎝a     ⎠ - sin⎝a     ⎠⋅cos(a) \n",
       "⎢                                                                             \n",
       "⎢   ⎛ b + 1⎞    ⎛     2⎞            ⎛ b + 1⎞    ⎛     2⎞             ⎛ b + 1⎞ \n",
       "⎢sin⎝a     ⎠⋅cos⎝a + b ⎠  sin(a)⋅sin⎝a     ⎠⋅sin⎝a + b ⎠ + cos(a)⋅cos⎝a     ⎠ \n",
       "⎢                                                                             \n",
       "⎢         ⎛     2⎞                                  ⎛     2⎞                  \n",
       "⎣     -sin⎝a + b ⎠                        sin(a)⋅cos⎝a + b ⎠                  \n",
       "\n",
       "            ⎛ b + 1⎞      ⎛     2⎞           ⎛ b + 1⎞ ⎤\n",
       "  sin(a)⋅sin⎝a     ⎠ + sin⎝a + b ⎠⋅cos(a)⋅cos⎝a     ⎠ ⎥\n",
       "                                                      ⎥\n",
       "             ⎛ b + 1⎞      ⎛ b + 1⎞    ⎛     2⎞       ⎥\n",
       " - sin(a)⋅cos⎝a     ⎠ + sin⎝a     ⎠⋅sin⎝a + b ⎠⋅cos(a)⎥\n",
       "                                                      ⎥\n",
       "                            ⎛     2⎞                  ⎥\n",
       "                  cos(a)⋅cos⎝a + b ⎠                  ⎦"
      ]
     },
     "metadata": {},
     "output_type": "display_data"
    },
    {
     "data": {
      "text/latex": [
       "$\\left[\\begin{matrix}\n",
       "0 & 0 & 0 \\\\\n",
       "0 & 0 & 0 \\\\\n",
       "0 & 0 & 0 \\\\\n",
       "\\end{matrix}\\right]\n",
       "$"
      ],
      "text/plain": [
       "[0, 0, 0]\n",
       "[0, 0, 0]\n",
       "[0, 0, 0]"
      ]
     },
     "metadata": {},
     "output_type": "display_data"
    }
   ],
   "source": [
    "a = se.Symbol(\"a\")\n",
    "b = se.Symbol(\"b\")\n",
    "\n",
    "\n",
    "exp1 = se.sin(a) + se.cos(b) + 2*a + se.sin(a)*b + b**se.sin(a) + a**se.cos(b) + se.sin(a)**2\n",
    "exp2 = Drehmatrix([a, a+b**2, a**b*a])\n",
    "\n",
    "sol1, sol2 = se.cse(exp2)\n",
    "\n",
    "display(sol1)\n",
    "display(sol2)\n",
    "\n",
    "display(exp2)\n",
    "display(sp.Matrix(3,3,sol2).subs(sol1).subs(sol1).subs(sol1).subs(sol1))\n",
    "\n",
    "display(se.expand(exp2 - sp.Matrix(3,3,sol2).subs(sol1).subs(sol1).subs(sol1).subs(sol1)))"
   ]
  },
  {
   "cell_type": "code",
   "execution_count": 9,
   "metadata": {},
   "outputs": [
    {
     "data": {
      "text/latex": [
       "$\\displaystyle \\left[\\begin{matrix}0 & - \\frac{1}{L}\\\\- \\frac{1}{C} & 0\\end{matrix}\\right]$"
      ],
      "text/plain": [
       "⎡     -1 ⎤\n",
       "⎢ 0   ───⎥\n",
       "⎢      L ⎥\n",
       "⎢        ⎥\n",
       "⎢-1      ⎥\n",
       "⎢───   0 ⎥\n",
       "⎣ C      ⎦"
      ]
     },
     "metadata": {},
     "output_type": "display_data"
    },
    {
     "data": {
      "text/latex": [
       "$\\displaystyle \\left[ \\left( - \\sqrt{\\frac{1}{C L}}, \\  1, \\  \\left[ \\left[\\begin{matrix}C \\sqrt{\\frac{1}{C L}}\\\\1\\end{matrix}\\right]\\right]\\right), \\  \\left( \\sqrt{\\frac{1}{C L}}, \\  1, \\  \\left[ \\left[\\begin{matrix}- C \\sqrt{\\frac{1}{C L}}\\\\1\\end{matrix}\\right]\\right]\\right)\\right]$"
      ],
      "text/plain": [
       "⎡⎛               ⎡⎡      _____⎤⎤⎞  ⎛              ⎡⎡       _____⎤⎤⎞⎤\n",
       "⎢⎜     _____     ⎢⎢     ╱  1  ⎥⎥⎟  ⎜    _____     ⎢⎢      ╱  1  ⎥⎥⎟⎥\n",
       "⎢⎜    ╱  1       ⎢⎢C⋅  ╱  ─── ⎥⎥⎟  ⎜   ╱  1       ⎢⎢-C⋅  ╱  ─── ⎥⎥⎟⎥\n",
       "⎢⎜-  ╱  ─── , 1, ⎢⎢  ╲╱   C⋅L ⎥⎥⎟, ⎜  ╱  ─── , 1, ⎢⎢   ╲╱   C⋅L ⎥⎥⎟⎥\n",
       "⎢⎜ ╲╱   C⋅L      ⎢⎢           ⎥⎥⎟  ⎜╲╱   C⋅L      ⎢⎢            ⎥⎥⎟⎥\n",
       "⎣⎝               ⎣⎣     1     ⎦⎦⎠  ⎝              ⎣⎣     1      ⎦⎦⎠⎦"
      ]
     },
     "metadata": {},
     "output_type": "display_data"
    }
   ],
   "source": [
    "C = sp.Symbol(\"C\", real = True)\n",
    "L = sp.Symbol(\"L\", real = True)\n",
    "\n",
    "\n",
    "A = sp.Matrix([[0,-1/L],[-1/C,0]])\n",
    "\n",
    "display(A, A.eigenvects())"
   ]
  }
 ],
 "metadata": {
  "kernelspec": {
   "display_name": "Python 3",
   "language": "python",
   "name": "python3"
  },
  "language_info": {
   "codemirror_mode": {
    "name": "ipython",
    "version": 3
   },
   "file_extension": ".py",
   "mimetype": "text/x-python",
   "name": "python",
   "nbconvert_exporter": "python",
   "pygments_lexer": "ipython3",
   "version": "3.11.0"
  },
  "orig_nbformat": 4
 },
 "nbformat": 4,
 "nbformat_minor": 2
}
