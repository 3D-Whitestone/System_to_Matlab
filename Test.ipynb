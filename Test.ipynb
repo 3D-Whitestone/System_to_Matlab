{
 "cells": [
  {
   "cell_type": "code",
   "execution_count": 1,
   "metadata": {},
   "outputs": [],
   "source": [
    "from Modules.Symbols.StaticSymbols import StaticSymbols\n",
    "from Modules.Symbols.DynamicSymbols import DynamicSymbols\n",
    "import symengine as se\n",
    "import sympy as sp\n",
    "\n",
    "se.init_printing(pretty_print=True)\n",
    "sp.init_printing(use_latex='mathjax')"
   ]
  },
  {
   "cell_type": "code",
   "execution_count": 2,
   "metadata": {},
   "outputs": [
    {
     "data": {
      "text/latex": [
       "$\\displaystyle \\left[ a_{1}^{(3)}\\right]$"
      ],
      "text/plain": [
       "[a_{1}__{(3)}]"
      ]
     },
     "metadata": {},
     "output_type": "display_data"
    }
   ],
   "source": [
    "a = se.Symbol('a_{1}^{(3)}')\n",
    "\n",
    "display(sp.sympify([a]))"
   ]
  },
  {
   "cell_type": "code",
   "execution_count": 3,
   "metadata": {},
   "outputs": [
    {
     "data": {
      "text/latex": [
       "$\\left[\\begin{matrix}\n",
       "q_0\\left(t\\right) & \\dot{q}_0\\left(t\\right) & \\ddot{q}_0\\left(t\\right) & q^{(3)}_0\\left(t\\right) \\\\\n",
       "q_1\\left(t\\right) & \\dot{q}_1\\left(t\\right) & \\ddot{q}_1\\left(t\\right) & q^{(3)}_1\\left(t\\right) \\\\\n",
       "\\end{matrix}\\right]\n",
       "$"
      ],
      "text/plain": [
       "<Modules.Symbols.DynamicSymbols.DynamicSymbols at 0x18b265fcd50>"
      ]
     },
     "metadata": {},
     "output_type": "display_data"
    },
    {
     "data": {
      "text/latex": [
       "$\\displaystyle \\left\\{ \\frac{d}{d t} \\ddot{q}_0{\\left(t \\right)} : q^{(3)}_0{\\left(t \\right)}, \\  \\frac{d}{d t} \\ddot{q}_1{\\left(t \\right)} : q^{(3)}_1{\\left(t \\right)}, \\  \\frac{d}{d t} \\dot{q}_0{\\left(t \\right)} : \\ddot{q}_0{\\left(t \\right)}, \\  \\frac{d}{d t} \\dot{q}_1{\\left(t \\right)} : \\ddot{q}_1{\\left(t \\right)}, \\  \\frac{d}{d t} q_{0}{\\left(t \\right)} : \\dot{q}_0{\\left(t \\right)}, \\  \\frac{d}{d t} q_{1}{\\left(t \\right)} : \\dot{q}_1{\\left(t \\right)}\\right\\}$"
      ],
      "text/plain": [
       "⎧d                                d                                d          \n",
       "⎨──(\\ddot{q}₀(t)): q_0__{(3)}(t), ──(\\ddot{q}₁(t)): q_1__{(3)}(t), ──(\\dot{q}₀\n",
       "⎩dt                               dt                               dt         \n",
       "\n",
       "                    d                              d                       d  \n",
       "(t)): \\ddot{q}₀(t), ──(\\dot{q}₁(t)): \\ddot{q}₁(t), ──(q₀(t)): \\dot{q}₀(t), ──(\n",
       "                    dt                             dt                      dt \n",
       "\n",
       "                   ⎫\n",
       "q₁(t)): \\dot{q}₁(t)⎬\n",
       "                   ⎭"
      ]
     },
     "metadata": {},
     "output_type": "display_data"
    }
   ],
   "source": [
    "x = DynamicSymbols(\"q\", 2, 3)\n",
    "display(x)\n",
    "display(sp.sympify(x._dict_of_derivation_for_substitutions))"
   ]
  }
 ],
 "metadata": {
  "kernelspec": {
   "display_name": "Python 3",
   "language": "python",
   "name": "python3"
  },
  "language_info": {
   "codemirror_mode": {
    "name": "ipython",
    "version": 3
   },
   "file_extension": ".py",
   "mimetype": "text/x-python",
   "name": "python",
   "nbconvert_exporter": "python",
   "pygments_lexer": "ipython3",
   "version": "3.11.0"
  },
  "orig_nbformat": 4
 },
 "nbformat": 4,
 "nbformat_minor": 2
}
