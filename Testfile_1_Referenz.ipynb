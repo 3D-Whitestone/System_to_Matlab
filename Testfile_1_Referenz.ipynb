{
 "cells": [
  {
   "cell_type": "code",
   "execution_count": 1,
   "metadata": {},
   "outputs": [],
   "source": [
    "from Modules.System import *\n",
    "import symengine as se\n",
    "import sympy\n",
    "\n",
    "se.init_printing(pretty_print=True)"
   ]
  },
  {
   "cell_type": "code",
   "execution_count": 2,
   "metadata": {},
   "outputs": [],
   "source": [
    "iG = se.Symbol(\"i_G\" , real = True)\n",
    "c = se.Symbol(\"c\" , real = True)\n",
    "s = se.Symbol(\"s\" , real = True)\n",
    "m = se.Symbol(\"m\" , real = True)\n",
    "CA = se.Symbol(\"C_A\" , real = True)\n",
    "CM = se.Symbol(\"C_M\" , real = True)\n",
    "km = se.Symbol(\"k_m\" , real = True)\n",
    "RA = se.Symbol(\"R_A\" , real = True)\n",
    "\n",
    "params = [iG,c,s,m,CA,CM,km,RA]"
   ]
  },
  {
   "cell_type": "code",
   "execution_count": 3,
   "metadata": {},
   "outputs": [
    {
     "data": {
      "text/plain": [
       "[[qM(t)]\n",
       " [qA(t)],\n",
       " [\\dot{qM}(t)]\n",
       " [\\dot{qA}(t)],\n",
       " [\\ddot{qM}(t)]\n",
       " [\\ddot{qA}(t)]]"
      ]
     },
     "metadata": {},
     "output_type": "display_data"
    },
    {
     "data": {
      "text/latex": [
       "$\\left[\\begin{matrix}\n",
       "M_{Mot}\\left(t\\right) \\\\\n",
       "\\end{matrix}\\right]\n",
       "$"
      ],
      "text/plain": [
       "[M_{Mot}(t)]"
      ]
     },
     "metadata": {},
     "output_type": "display_data"
    }
   ],
   "source": [
    "q_var = sys_var([\"qM\",\"qA\"],2,2,True)\n",
    "u_var = sys_var([\"M_{Mot}\"],1,0,True)\n",
    "System_object.init_diff_t(q_var,u_var)\n",
    "u = u_var.vars\n",
    "display(q_var.vars)\n",
    "[q,q_dot,q_ddot] = q_var.vars\n",
    "[[qM,qA],[qM_dot, qA_dot],[qM_ddot, qA_ddot]] = q_var.vars\n",
    "display(u)\n",
    "M_Mot = u[0]"
   ]
  },
  {
   "cell_type": "code",
   "execution_count": 4,
   "metadata": {},
   "outputs": [
    {
     "data": {
      "text/latex": [
       "$\\left[\\begin{matrix}\n",
       "0 & 0 & 0 \\\\\n",
       "0 & 0 & 0 \\\\\n",
       "0 & 0 & C_A \\\\\n",
       "\\end{matrix}\\right]\n",
       "$"
      ],
      "text/plain": [
       "[0, 0, 0]\n",
       "[0, 0, 0]\n",
       "[0, 0, C_A]"
      ]
     },
     "execution_count": 4,
     "metadata": {},
     "output_type": "execute_result"
    }
   ],
   "source": [
    "K_J_AS = se.zeros(3)\n",
    "K_J_AS[2,2] = CA\n",
    "\n",
    "K_J_AS"
   ]
  },
  {
   "cell_type": "code",
   "execution_count": 5,
   "metadata": {},
   "outputs": [
    {
     "data": {
      "text/latex": [
       "$\\left[\\begin{matrix}\n",
       "0 & 0 & 0 \\\\\n",
       "0 & 0 & 0 \\\\\n",
       "0 & 0 & C_M \\\\\n",
       "\\end{matrix}\\right]\n",
       "$"
      ],
      "text/plain": [
       "[0, 0, 0]\n",
       "[0, 0, 0]\n",
       "[0, 0, C_M]"
      ]
     },
     "execution_count": 5,
     "metadata": {},
     "output_type": "execute_result"
    }
   ],
   "source": [
    "K_J_MS = se.zeros(3)\n",
    "K_J_MS[2,2] = CM\n",
    "\n",
    "\n",
    "K_J_MS"
   ]
  },
  {
   "cell_type": "code",
   "execution_count": 6,
   "metadata": {},
   "outputs": [
    {
     "data": {
      "text/latex": [
       "$\\left[\\begin{matrix}\n",
       "\\cos{\\left(qM\\left(t\\right)\\right)} & -\\sin{\\left(qM\\left(t\\right)\\right)} & 0 \\\\\n",
       "\\sin{\\left(qM\\left(t\\right)\\right)} & \\cos{\\left(qM\\left(t\\right)\\right)} & 0 \\\\\n",
       "0 & 0 & 1 \\\\\n",
       "\\end{matrix}\\right]\n",
       "$"
      ],
      "text/plain": [
       "[cos(qM(t)), -sin(qM(t)), 0]\n",
       "[sin(qM(t)), cos(qM(t)), 0]\n",
       "[0, 0, 1]"
      ]
     },
     "metadata": {},
     "output_type": "display_data"
    }
   ],
   "source": [
    "R_IK = Drehmatrix(se.Matrix([0,0,qM]))\n",
    "display(R_IK)"
   ]
  },
  {
   "cell_type": "code",
   "execution_count": 7,
   "metadata": {},
   "outputs": [
    {
     "data": {
      "text/latex": [
       "$\\left[\\begin{matrix}\n",
       "s \\\\\n",
       "0 \\\\\n",
       "0 \\\\\n",
       "\\end{matrix}\\right]\n",
       "$"
      ],
      "text/plain": [
       "[s]\n",
       "[0]\n",
       "[0]"
      ]
     },
     "execution_count": 7,
     "metadata": {},
     "output_type": "execute_result"
    }
   ],
   "source": [
    "K_r_s = se.Matrix([s,0,0])\n",
    "K_r_s"
   ]
  },
  {
   "cell_type": "code",
   "execution_count": 8,
   "metadata": {},
   "outputs": [
    {
     "data": {
      "text/latex": [
       "$\\left[\\begin{matrix}\n",
       "0 \\\\\n",
       "0 \\\\\n",
       "\\dot{qA}\\left(t\\right) + \\dot{qM}\\left(t\\right) \\\\\n",
       "\\end{matrix}\\right]\n",
       "$"
      ],
      "text/plain": [
       "[0]\n",
       "[0]\n",
       "[\\dot{qA}(t) + \\dot{qM}(t)]"
      ]
     },
     "execution_count": 8,
     "metadata": {},
     "output_type": "execute_result"
    }
   ],
   "source": [
    "K_w_K = se.Matrix([0,0,qA_dot+qM_dot])\n",
    "K_w_K"
   ]
  },
  {
   "cell_type": "code",
   "execution_count": 9,
   "metadata": {},
   "outputs": [
    {
     "data": {
      "text/latex": [
       "$\\left[\\begin{matrix}\n",
       "0 \\\\\n",
       "0 \\\\\n",
       "i_G \\dot{qM}\\left(t\\right) \\\\\n",
       "\\end{matrix}\\right]\n",
       "$"
      ],
      "text/plain": [
       "[0]\n",
       "[0]\n",
       "[i_G*\\dot{qM}(t)]"
      ]
     },
     "execution_count": 9,
     "metadata": {},
     "output_type": "execute_result"
    }
   ],
   "source": [
    "K_w_M = se.Matrix([0,0,iG*qM_dot])\n",
    "K_w_M"
   ]
  },
  {
   "cell_type": "code",
   "execution_count": 10,
   "metadata": {},
   "outputs": [
    {
     "data": {
      "text/latex": [
       "$\\left[\\begin{matrix}\n",
       "0 \\\\\n",
       "\\left(\\dot{qA}\\left(t\\right) + \\dot{qM}\\left(t\\right)\\right) s \\\\\n",
       "0 \\\\\n",
       "\\end{matrix}\\right]\n",
       "$"
      ],
      "text/plain": [
       "[0]\n",
       "[(\\dot{qA}(t) + \\dot{qM}(t))*s]\n",
       "[0]"
      ]
     },
     "execution_count": 10,
     "metadata": {},
     "output_type": "execute_result"
    }
   ],
   "source": [
    "K_v_S = diff_t(K_r_s) + K_w_K.cross(K_r_s)\n",
    "K_v_S"
   ]
  },
  {
   "cell_type": "code",
   "execution_count": 11,
   "metadata": {},
   "outputs": [
    {
     "data": {
      "text/latex": [
       "$\\left[\\begin{matrix}\n",
       "0 \\\\\n",
       "\\left(\\dot{qA}\\left(t\\right) + \\dot{qM}\\left(t\\right)\\right) m s \\\\\n",
       "0 \\\\\n",
       "\\end{matrix}\\right]\n",
       "$"
      ],
      "text/plain": [
       "[0]\n",
       "[(\\dot{qA}(t) + \\dot{qM}(t))*m*s]\n",
       "[0]"
      ]
     },
     "execution_count": 11,
     "metadata": {},
     "output_type": "execute_result"
    }
   ],
   "source": [
    "K_p = m * K_v_S\n",
    "K_p"
   ]
  },
  {
   "cell_type": "code",
   "execution_count": 12,
   "metadata": {},
   "outputs": [
    {
     "data": {
      "text/latex": [
       "$\\left[\\begin{matrix}\n",
       "0 \\\\\n",
       "0 \\\\\n",
       "\\left(\\dot{qA}\\left(t\\right) + \\dot{qM}\\left(t\\right)\\right) C_A \\\\\n",
       "\\end{matrix}\\right]\n",
       "$"
      ],
      "text/plain": [
       "[0]\n",
       "[0]\n",
       "[(\\dot{qA}(t) + \\dot{qM}(t))*C_A]"
      ]
     },
     "execution_count": 12,
     "metadata": {},
     "output_type": "execute_result"
    }
   ],
   "source": [
    "K_L_A = K_J_AS * K_w_K\n",
    "K_L_A"
   ]
  },
  {
   "cell_type": "code",
   "execution_count": 13,
   "metadata": {},
   "outputs": [
    {
     "data": {
      "text/latex": [
       "$\\left[\\begin{matrix}\n",
       "0 \\\\\n",
       "0 \\\\\n",
       "i_G C_M \\dot{qM}\\left(t\\right) \\\\\n",
       "\\end{matrix}\\right]\n",
       "$"
      ],
      "text/plain": [
       "[0]\n",
       "[0]\n",
       "[i_G*C_M*\\dot{qM}(t)]"
      ]
     },
     "execution_count": 13,
     "metadata": {},
     "output_type": "execute_result"
    }
   ],
   "source": [
    "K_L_M = K_J_MS * K_w_M\n",
    "K_L_M"
   ]
  },
  {
   "cell_type": "code",
   "execution_count": 14,
   "metadata": {},
   "outputs": [
    {
     "data": {
      "text/latex": [
       "$\\left[\\begin{matrix}\n",
       "0 \\\\\n",
       "0 \\\\\n",
       "-c qA\\left(t\\right) \\\\\n",
       "\\end{matrix}\\right]\n",
       "$"
      ],
      "text/plain": [
       "[0]\n",
       "[0]\n",
       "[-c*qA(t)]"
      ]
     },
     "execution_count": 14,
     "metadata": {},
     "output_type": "execute_result"
    }
   ],
   "source": [
    "K_Me_A = se.Matrix([0,0,-qA * c])\n",
    "K_Me_A"
   ]
  },
  {
   "cell_type": "code",
   "execution_count": 15,
   "metadata": {},
   "outputs": [
    {
     "data": {
      "text/latex": [
       "$\\left[\\begin{matrix}\n",
       "0 \\\\\n",
       "0 \\\\\n",
       "\\frac{c qA\\left(t\\right)}{i_G} + M_{Mot}\\left(t\\right) \\\\\n",
       "\\end{matrix}\\right]\n",
       "$"
      ],
      "text/plain": [
       "[0]\n",
       "[0]\n",
       "[c*qA(t)/i_G + M_{Mot}(t)]"
      ]
     },
     "execution_count": 15,
     "metadata": {},
     "output_type": "execute_result"
    }
   ],
   "source": [
    "K_Me_M = se.Matrix([0,0,M_Mot]) - K_Me_A / iG\n",
    "K_Me_M"
   ]
  },
  {
   "cell_type": "code",
   "execution_count": 16,
   "metadata": {},
   "outputs": [
    {
     "data": {
      "text/latex": [
       "$\\left[\\begin{matrix}\n",
       "\\left(\\ddot{qA}\\left(t\\right) + \\ddot{qM}\\left(t\\right)\\right) m s^2 \\\\\n",
       "\\left(\\ddot{qA}\\left(t\\right) + \\ddot{qM}\\left(t\\right)\\right) m s^2 \\\\\n",
       "\\end{matrix}\\right]\n",
       "$"
      ],
      "text/plain": [
       "[(\\ddot{qA}(t) + \\ddot{qM}(t))*m*s**2]\n",
       "[(\\ddot{qA}(t) + \\ddot{qM}(t))*m*s**2]"
      ]
     },
     "execution_count": 16,
     "metadata": {},
     "output_type": "execute_result"
    }
   ],
   "source": [
    "part1 = K_v_S.jacobian(q_dot).transpose() * (diff_t(K_p) + K_w_K.cross(K_p))\n",
    "\n",
    "\n",
    "part1"
   ]
  },
  {
   "cell_type": "code",
   "execution_count": 17,
   "metadata": {},
   "outputs": [
    {
     "data": {
      "text/latex": [
       "$\\left[\\begin{matrix}\n",
       "c qA\\left(t\\right) + \\left(\\ddot{qA}\\left(t\\right) + \\ddot{qM}\\left(t\\right)\\right) C_A \\\\\n",
       "c qA\\left(t\\right) + \\left(\\ddot{qA}\\left(t\\right) + \\ddot{qM}\\left(t\\right)\\right) C_A \\\\\n",
       "\\end{matrix}\\right]\n",
       "$"
      ],
      "text/plain": [
       "[c*qA(t) + (\\ddot{qA}(t) + \\ddot{qM}(t))*C_A]\n",
       "[c*qA(t) + (\\ddot{qA}(t) + \\ddot{qM}(t))*C_A]"
      ]
     },
     "execution_count": 17,
     "metadata": {},
     "output_type": "execute_result"
    }
   ],
   "source": [
    "part2 = K_w_K.jacobian(q_dot).transpose() * (diff_t(K_L_A) + K_w_K.cross(K_L_A) - K_Me_A)\n",
    "part2"
   ]
  },
  {
   "cell_type": "code",
   "execution_count": 18,
   "metadata": {},
   "outputs": [
    {
     "data": {
      "text/latex": [
       "$\\left[\\begin{matrix}\n",
       "i_G \\left(i_G C_M \\ddot{qM}\\left(t\\right) - \\left(\\frac{c qA\\left(t\\right)}{i_G} + M_{Mot}\\left(t\\right)\\right)\\right) \\\\\n",
       "0 \\\\\n",
       "\\end{matrix}\\right]\n",
       "$"
      ],
      "text/plain": [
       "[i_G*(i_G*C_M*\\ddot{qM}(t) - (c*qA(t)/i_G + M_{Mot}(t)))]\n",
       "[0]"
      ]
     },
     "execution_count": 18,
     "metadata": {},
     "output_type": "execute_result"
    }
   ],
   "source": [
    "part3 = K_w_M.jacobian(q_dot).transpose() * (diff_t(K_L_M) + K_w_M.cross(K_L_M) - K_Me_M)\n",
    "part3"
   ]
  },
  {
   "cell_type": "code",
   "execution_count": 19,
   "metadata": {},
   "outputs": [
    {
     "data": {
      "text/latex": [
       "$\\left[\\begin{matrix}\n",
       "c qA\\left(t\\right) + i_G \\left(i_G C_M \\ddot{qM}\\left(t\\right) - \\left(\\frac{c qA\\left(t\\right)}{i_G} + M_{Mot}\\left(t\\right)\\right)\\right) + \\left(\\ddot{qA}\\left(t\\right) + \\ddot{qM}\\left(t\\right)\\right) C_A + \\left(\\ddot{qA}\\left(t\\right) + \\ddot{qM}\\left(t\\right)\\right) m s^2 \\\\\n",
       "c qA\\left(t\\right) + \\left(\\ddot{qA}\\left(t\\right) + \\ddot{qM}\\left(t\\right)\\right) C_A + \\left(\\ddot{qA}\\left(t\\right) + \\ddot{qM}\\left(t\\right)\\right) m s^2 \\\\\n",
       "\\end{matrix}\\right]\n",
       "$"
      ],
      "text/plain": [
       "[c*qA(t) + i_G*(i_G*C_M*\\ddot{qM}(t) - (c*qA(t)/i_G + M_{Mot}(t))) + (\\ddot{qA}(t) + \\ddot{qM}(t))*C_A + (\\ddot{qA}(t) + \\ddot{qM}(t))*m*s**2]\n",
       "[c*qA(t) + (\\ddot{qA}(t) + \\ddot{qM}(t))*C_A + (\\ddot{qA}(t) + \\ddot{qM}(t))*m*s**2]"
      ]
     },
     "execution_count": 19,
     "metadata": {},
     "output_type": "execute_result"
    }
   ],
   "source": [
    "parts = part1 + part2 + part3\n",
    "parts"
   ]
  },
  {
   "cell_type": "code",
   "execution_count": 20,
   "metadata": {},
   "outputs": [
    {
     "data": {
      "text/latex": [
       "$\\left[\\begin{matrix}\n",
       "C_A + i_G^2 C_M + m s^2 & C_A + m s^2 \\\\\n",
       "C_A + m s^2 & C_A + m s^2 \\\\\n",
       "\\end{matrix}\\right]\n",
       "$"
      ],
      "text/plain": [
       "[C_A + i_G**2*C_M + m*s**2, C_A + m*s**2]\n",
       "[C_A + m*s**2, C_A + m*s**2]"
      ]
     },
     "execution_count": 20,
     "metadata": {},
     "output_type": "execute_result"
    }
   ],
   "source": [
    "M = parts.jacobian(q_ddot)\n",
    "M"
   ]
  },
  {
   "cell_type": "code",
   "execution_count": 21,
   "metadata": {},
   "outputs": [
    {
     "data": {
      "text/latex": [
       "$\\left[\\begin{matrix}\n",
       "c qA\\left(t\\right) + i_G \\left(i_G C_M \\ddot{qM}\\left(t\\right) - \\left(\\frac{c qA\\left(t\\right)}{i_G} + M_{Mot}\\left(t\\right)\\right)\\right) + \\left(\\ddot{qA}\\left(t\\right) + \\ddot{qM}\\left(t\\right)\\right) C_A + \\left(\\ddot{qA}\\left(t\\right) + \\ddot{qM}\\left(t\\right)\\right) m s^2 - \\left(\\ddot{qA}\\left(t\\right) \\left(C_A + m s^2\\right) + \\ddot{qM}\\left(t\\right) \\left(C_A + i_G^2 C_M + m s^2\\right)\\right) \\\\\n",
       "c qA\\left(t\\right) + \\left(\\ddot{qA}\\left(t\\right) + \\ddot{qM}\\left(t\\right)\\right) C_A + \\left(\\ddot{qA}\\left(t\\right) + \\ddot{qM}\\left(t\\right)\\right) m s^2 - \\left(\\ddot{qA}\\left(t\\right) \\left(C_A + m s^2\\right) + \\ddot{qM}\\left(t\\right) \\left(C_A + m s^2\\right)\\right) \\\\\n",
       "\\end{matrix}\\right]\n",
       "$"
      ],
      "text/plain": [
       "[c*qA(t) + i_G*(i_G*C_M*\\ddot{qM}(t) - (c*qA(t)/i_G + M_{Mot}(t))) + (\\ddot{qA}(t) + \\ddot{qM}(t))*C_A + (\\ddot{qA}(t) + \\ddot{qM}(t))*m*s**2 - (\\ddot{qA}(t)*(C_A + m*s**2) + \\ddot{qM}(t)*(C_A + i_G**2*C_M + m*s**2))]\n",
       "[c*qA(t) + (\\ddot{qA}(t) + \\ddot{qM}(t))*C_A + (\\ddot{qA}(t) + \\ddot{qM}(t))*m*s**2 - (\\ddot{qA}(t)*(C_A + m*s**2) + \\ddot{qM}(t)*(C_A + m*s**2))]"
      ]
     },
     "execution_count": 21,
     "metadata": {},
     "output_type": "execute_result"
    }
   ],
   "source": [
    "g = parts - M @  q_ddot\n",
    "g"
   ]
  },
  {
   "cell_type": "code",
   "execution_count": 22,
   "metadata": {},
   "outputs": [
    {
     "data": {
      "text/latex": [
       "$\\displaystyle \\left[\\begin{matrix}\\dot{qM}{\\left(t \\right)}\\\\\\dot{qA}{\\left(t \\right)}\\\\\\frac{c \\operatorname{qA}{\\left(t \\right)} + i_{G} M_{Mot}{\\left(t \\right)}}{C_{M} i_{G}^{2}}\\\\\\frac{- C_{A} c \\operatorname{qA}{\\left(t \\right)} - C_{A} i_{G} M_{Mot}{\\left(t \\right)} - C_{M} c i_{G}^{2} \\operatorname{qA}{\\left(t \\right)} - c m s^{2} \\operatorname{qA}{\\left(t \\right)} - i_{G} m s^{2} M_{Mot}{\\left(t \\right)}}{C_{M} i_{G}^{2} \\left(C_{A} + m s^{2}\\right)}\\end{matrix}\\right]$"
      ],
      "text/plain": [
       "Matrix([\n",
       "[                                                                                                                  \\dot{qM}(t)],\n",
       "[                                                                                                                  \\dot{qA}(t)],\n",
       "[                                                                                      (c*qA(t) + i_G*M_{Mot}(t))/(C_M*i_G**2)],\n",
       "[(-C_A*c*qA(t) - C_A*i_G*M_{Mot}(t) - C_M*c*i_G**2*qA(t) - c*m*s**2*qA(t) - i_G*m*s**2*M_{Mot}(t))/(C_M*i_G**2*(C_A + m*s**2))]])"
      ]
     },
     "execution_count": 22,
     "metadata": {},
     "output_type": "execute_result"
    }
   ],
   "source": [
    "f = q_dot.col_join(-M.inv() * g)\n",
    "sympy.simplify(f)"
   ]
  },
  {
   "cell_type": "code",
   "execution_count": 23,
   "metadata": {},
   "outputs": [],
   "source": [
    "h = q.col_join(q_dot)\n",
    "sys = System_object(f,h,q_var,u_var,params,False)"
   ]
  },
  {
   "cell_type": "code",
   "execution_count": 24,
   "metadata": {},
   "outputs": [
    {
     "data": {
      "text/latex": [
       "$\\left[\\begin{matrix}\n",
       "0 & 0 & 1 & 0 \\\\\n",
       "0 & 0 & 0 & 1 \\\\\n",
       "0 & \\frac{c}{i_G^2 C_M} & 0 & 0 \\\\\n",
       "0 & \\frac{-c \\left(C_A + i_G^2 C_M + m s^2\\right)}{i_G^2 C_M \\left(C_A + m s^2\\right)} & 0 & 0 \\\\\n",
       "\\end{matrix}\\right]\n",
       "$"
      ],
      "text/plain": [
       "[0, 0, 1, 0]\n",
       "[0, 0, 0, 1]\n",
       "[0, c/(i_G**2*C_M), 0, 0]\n",
       "[0, -c*(C_A + i_G**2*C_M + m*s**2)/(i_G**2*C_M*(C_A + m*s**2)), 0, 0]"
      ]
     },
     "metadata": {},
     "output_type": "display_data"
    },
    {
     "data": {
      "text/latex": [
       "$\\left[\\begin{matrix}\n",
       "0 \\\\\n",
       "0 \\\\\n",
       "\\frac{1}{i_G C_M} \\\\\n",
       "\\frac{-1}{i_G C_M} \\\\\n",
       "\\end{matrix}\\right]\n",
       "$"
      ],
      "text/plain": [
       "[0]\n",
       "[0]\n",
       "[1/(i_G*C_M)]\n",
       "[-1/(i_G*C_M)]"
      ]
     },
     "metadata": {},
     "output_type": "display_data"
    },
    {
     "data": {
      "text/latex": [
       "$\\left[\\begin{matrix}\n",
       "1 & 0 & 0 & 0 \\\\\n",
       "0 & 1 & 0 & 0 \\\\\n",
       "0 & 0 & 1 & 0 \\\\\n",
       "0 & 0 & 0 & 1 \\\\\n",
       "\\end{matrix}\\right]\n",
       "$"
      ],
      "text/plain": [
       "[1, 0, 0, 0]\n",
       "[0, 1, 0, 0]\n",
       "[0, 0, 1, 0]\n",
       "[0, 0, 0, 1]"
      ]
     },
     "metadata": {},
     "output_type": "display_data"
    },
    {
     "data": {
      "text/latex": [
       "$\\left[\\begin{matrix}\n",
       "0 \\\\\n",
       "0 \\\\\n",
       "0 \\\\\n",
       "0 \\\\\n",
       "\\end{matrix}\\right]\n",
       "$"
      ],
      "text/plain": [
       "[0]\n",
       "[0]\n",
       "[0]\n",
       "[0]"
      ]
     },
     "metadata": {},
     "output_type": "display_data"
    }
   ],
   "source": [
    "[A,B,C,D] = sys.linearize(se.Matrix([0,0,0,0]),se.Matrix([0]),True)\n",
    "display(A,B,C,D)"
   ]
  },
  {
   "cell_type": "code",
   "execution_count": 25,
   "metadata": {},
   "outputs": [],
   "source": [
    "sys.write_ABCD_to_file(\"ss_matrices\")\n",
    "sys.write_s_funs(\"Test\")"
   ]
  },
  {
   "cell_type": "code",
   "execution_count": 26,
   "metadata": {},
   "outputs": [
    {
     "data": {
      "text/plain": [
       "[(x0, m*s**2),\n",
       " (x1, C_A + x0),\n",
       " (x2, x1 + i_G**2*C_M),\n",
       " (x3, x2**(-1)),\n",
       " (x4, x1**2*x3),\n",
       " (x5, (x1 - x4)**(-1)),\n",
       " (x6, \\ddot{qM}(t)),\n",
       " (x7, \\ddot{qA}(t)),\n",
       " (x8, x1*x7),\n",
       " (x9, c*qA(t)),\n",
       " (x10, x6 + x7),\n",
       " (x11, x9 + x0*x10 + x10*C_A),\n",
       " (x12, x3*(x11 + i_G*(x6*i_G*C_M - (x9/i_G + M_{Mot}(t))) - (x8 + x2*x6))),\n",
       " (x13, x5*(x11 - (x8 + x1*x6)))]"
      ]
     },
     "metadata": {},
     "output_type": "display_data"
    },
    {
     "data": {
      "text/plain": [
       "(x0, m*s**2)"
      ]
     },
     "metadata": {},
     "output_type": "display_data"
    },
    {
     "data": {
      "text/plain": [
       "[\\dot{qM}(t), \\dot{qA}(t), -x12*(1 + x4*x5) + x1*x3*x13, -x13 + x1*x5*x12]"
      ]
     },
     "metadata": {},
     "output_type": "display_data"
    },
    {
     "data": {
      "text/latex": [
       "$-x12 \\left(1 + x4 x5\\right) + x1 x3 x13$"
      ],
      "text/plain": [
       "-x12*(1 + x4*x5) + x1*x3*x13"
      ]
     },
     "metadata": {},
     "output_type": "display_data"
    }
   ],
   "source": [
    "\n",
    "f1,f2 = se.cse(f)\n",
    "display(f1, f1[0])\n",
    "display(f2, f2[2])"
   ]
  },
  {
   "cell_type": "code",
   "execution_count": 27,
   "metadata": {},
   "outputs": [],
   "source": [
    "#for temp in f1:\n",
    "#    display(temp[0] +\" = \" + temp[1])"
   ]
  },
  {
   "cell_type": "code",
   "execution_count": 28,
   "metadata": {},
   "outputs": [
    {
     "data": {
      "text/latex": [
       "$\\displaystyle \\begin{cases} x & \\text{for}\\: t > 5 \\\\- x & \\text{for}\\: t > 7 \\\\x^{2} & \\text{for}\\: t > 10 \\\\- t x & \\text{for}\\: t \\leq 0 \\\\t & \\text{otherwise} \\end{cases}$"
      ],
      "text/plain": [
       "Piecewise((x, t > 5), (-x, t > 7), (x**2, t > 10), (-t*x, t <= 0), (t, True))"
      ]
     },
     "metadata": {},
     "output_type": "display_data"
    }
   ],
   "source": [
    "x = sympy.Symbol(\"x\")\n",
    "t = sympy.Symbol(\"t\")\n",
    "test = sympy.Piecewise((x, t > 5),(-x, t > 7), (x**2, t> 10),(-x * t, t <= 0), (t, True))\n",
    "display(test)"
   ]
  },
  {
   "cell_type": "code",
   "execution_count": 29,
   "metadata": {},
   "outputs": [
    {
     "name": "stdout",
     "output_type": "stream",
     "text": [
      "if (t > 5)\n",
      "  x\n",
      "elseif (t > 7)\n",
      "  -x\n",
      "elseif (t > 10)\n",
      "  x.^2\n",
      "elseif (t <= 0)\n",
      "  -t.*x\n",
      "else\n",
      "  t\n",
      "end\n"
     ]
    }
   ],
   "source": [
    "print(sympy.octave_code(test, inline = False))"
   ]
  }
 ],
 "metadata": {
  "kernelspec": {
   "display_name": "Python 3",
   "language": "python",
   "name": "python3"
  },
  "language_info": {
   "codemirror_mode": {
    "name": "ipython",
    "version": 3
   },
   "file_extension": ".py",
   "mimetype": "text/x-python",
   "name": "python",
   "nbconvert_exporter": "python",
   "pygments_lexer": "ipython3",
   "version": "3.11.0"
  },
  "orig_nbformat": 4,
  "vscode": {
   "interpreter": {
    "hash": "08f57244d2f3420109eb4a4246849699d07d1b1540cb0230b33c3c9bc0f89fba"
   }
  }
 },
 "nbformat": 4,
 "nbformat_minor": 2
}
