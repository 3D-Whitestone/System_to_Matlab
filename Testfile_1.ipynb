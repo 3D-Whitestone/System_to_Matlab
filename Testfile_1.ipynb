{
 "cells": [
  {
   "cell_type": "code",
   "execution_count": 1,
   "metadata": {},
   "outputs": [],
   "source": [
    "%reload_ext autoreload\n",
    "%autoreload 2\n",
    "\n",
    "from Modules import DynamicSymbol, StaticSymbol, DynamicSymbols, StaticSymbols, diff_t, Drehmatrix, DynamicSystem, StaticSystem, disp\n",
    "import symengine as se\n",
    "import sympy\n",
    "\n",
    "se.init_printing()\n",
    "\n",
    "sympy.init_printing(use_latex='mathjax')"
   ]
  },
  {
   "cell_type": "code",
   "execution_count": 2,
   "metadata": {},
   "outputs": [],
   "source": [
    "[iG,c,s,m,CA,CM,km] = StaticSymbols([\"i_G\",\"c\",\"s\",\"m\",\"C_A\",\"C_M\",\"k_m\"])\n",
    "params = [iG,c,s,m,CA,CM,km]"
   ]
  },
  {
   "cell_type": "code",
   "execution_count": 3,
   "metadata": {},
   "outputs": [],
   "source": [
    "# q_var = DynamicSymbols([\"q_M\",\"q_A\"],1,2,True)\n",
    "q_var = DynamicSymbol(\"q\",2,2)\n",
    "u_var = DynamicSymbol(\"M_{Mot}\",1,0)\n",
    "\n",
    "vars = DynamicSymbols([\"q_M\",\"q_A\"],1,2)\n",
    "[q,q_dot,q_ddot] = vars\n",
    "[q,q_dot,q_ddot] = [se.Matrix(q),se.Matrix(q_dot),se.Matrix(q_ddot)]\n",
    "[[qM,qA],[qM_dot, qA_dot],[qM_ddot, qA_ddot]] = vars\n",
    "\n",
    "\n",
    "u = u_var.vars\n",
    "#[q,q_dot,q_ddot] = q_var.vars\n",
    "#[[qM,qA],[qM_dot, qA_dot],[qM_ddot, qA_ddot]] = q_var.vars\n",
    "#display(q_var, u_var)\n",
    "M_Mot = u[0]"
   ]
  },
  {
   "cell_type": "code",
   "execution_count": 4,
   "metadata": {},
   "outputs": [
    {
     "data": {
      "text/latex": [
       "$\\left[\\begin{matrix}\n",
       "0 & 0 & 0 \\\\\n",
       "0 & 0 & 0 \\\\\n",
       "0 & 0 & C_{A} \\\\\n",
       "\\end{matrix}\\right]\n",
       "$"
      ],
      "text/plain": [
       "[0, 0, 0]\n",
       "[0, 0, 0]\n",
       "[0, 0, C_{A}]"
      ]
     },
     "execution_count": 4,
     "metadata": {},
     "output_type": "execute_result"
    }
   ],
   "source": [
    "K_J_AS = se.diag(0,0,CA)\n",
    "K_J_AS"
   ]
  },
  {
   "cell_type": "code",
   "execution_count": 5,
   "metadata": {},
   "outputs": [
    {
     "data": {
      "text/latex": [
       "$\\left[\\begin{matrix}\n",
       "0 & 0 & 0 \\\\\n",
       "0 & 0 & 0 \\\\\n",
       "0 & 0 & C_{M} \\\\\n",
       "\\end{matrix}\\right]\n",
       "$"
      ],
      "text/plain": [
       "[0, 0, 0]\n",
       "[0, 0, 0]\n",
       "[0, 0, C_{M}]"
      ]
     },
     "execution_count": 5,
     "metadata": {},
     "output_type": "execute_result"
    }
   ],
   "source": [
    "K_J_MS = se.zeros(3)\n",
    "K_J_MS[2,2] = CM\n",
    "\n",
    "\n",
    "K_J_MS"
   ]
  },
  {
   "cell_type": "code",
   "execution_count": 6,
   "metadata": {},
   "outputs": [
    {
     "data": {
      "text/latex": [
       "$\\left[\\begin{matrix}\n",
       "\\cos{\\left(q_{M}\\left(t\\right)\\right)} & -\\sin{\\left(q_{M}\\left(t\\right)\\right)} & 0 \\\\\n",
       "\\sin{\\left(q_{M}\\left(t\\right)\\right)} & \\cos{\\left(q_{M}\\left(t\\right)\\right)} & 0 \\\\\n",
       "0 & 0 & 1 \\\\\n",
       "\\end{matrix}\\right]\n",
       "$"
      ],
      "text/plain": [
       "[cos(q_{M}(t)), -sin(q_{M}(t)), 0]\n",
       "[sin(q_{M}(t)), cos(q_{M}(t)), 0]\n",
       "[0, 0, 1]"
      ]
     },
     "metadata": {},
     "output_type": "display_data"
    }
   ],
   "source": [
    "R_IK = Drehmatrix(se.Matrix([0,0,qM]))\n",
    "display(R_IK)"
   ]
  },
  {
   "cell_type": "code",
   "execution_count": 7,
   "metadata": {},
   "outputs": [
    {
     "data": {
      "text/latex": [
       "$\\left[\\begin{matrix}\n",
       "s \\\\\n",
       "0 \\\\\n",
       "0 \\\\\n",
       "\\end{matrix}\\right]\n",
       "$"
      ],
      "text/plain": [
       "[s]\n",
       "[0]\n",
       "[0]"
      ]
     },
     "execution_count": 7,
     "metadata": {},
     "output_type": "execute_result"
    }
   ],
   "source": [
    "K_r_s = se.Matrix([s,0,0])\n",
    "K_r_s"
   ]
  },
  {
   "cell_type": "code",
   "execution_count": 8,
   "metadata": {},
   "outputs": [
    {
     "data": {
      "text/latex": [
       "$\\left[\\begin{matrix}\n",
       "0 \\\\\n",
       "0 \\\\\n",
       "\\dot{q}_{A}\\left(t\\right) + \\dot{q}_{M}\\left(t\\right) \\\\\n",
       "\\end{matrix}\\right]\n",
       "$"
      ],
      "text/plain": [
       "[0]\n",
       "[0]\n",
       "[\\dot{q}_{A}(t) + \\dot{q}_{M}(t)]"
      ]
     },
     "execution_count": 8,
     "metadata": {},
     "output_type": "execute_result"
    }
   ],
   "source": [
    "K_w_K = se.Matrix([0,0,qA_dot+qM_dot])\n",
    "K_w_K"
   ]
  },
  {
   "cell_type": "code",
   "execution_count": 9,
   "metadata": {},
   "outputs": [
    {
     "data": {
      "text/latex": [
       "$\\left[\\begin{matrix}\n",
       "0 \\\\\n",
       "0 \\\\\n",
       "i_{G} \\dot{q}_{M}\\left(t\\right) \\\\\n",
       "\\end{matrix}\\right]\n",
       "$"
      ],
      "text/plain": [
       "[0]\n",
       "[0]\n",
       "[i_{G}*\\dot{q}_{M}(t)]"
      ]
     },
     "execution_count": 9,
     "metadata": {},
     "output_type": "execute_result"
    }
   ],
   "source": [
    "K_w_M = se.Matrix([0,0,iG*qM_dot])\n",
    "K_w_M"
   ]
  },
  {
   "cell_type": "code",
   "execution_count": 10,
   "metadata": {},
   "outputs": [
    {
     "data": {
      "text/latex": [
       "$\\left[\\begin{matrix}\n",
       "0 \\\\\n",
       "\\left(\\dot{q}_{A}\\left(t\\right) + \\dot{q}_{M}\\left(t\\right)\\right) s \\\\\n",
       "0 \\\\\n",
       "\\end{matrix}\\right]\n",
       "$"
      ],
      "text/plain": [
       "[0]\n",
       "[(\\dot{q}_{A}(t) + \\dot{q}_{M}(t))*s]\n",
       "[0]"
      ]
     },
     "execution_count": 10,
     "metadata": {},
     "output_type": "execute_result"
    }
   ],
   "source": [
    "K_v_S = diff_t(K_r_s) + K_w_K.cross(K_r_s)\n",
    "K_v_S"
   ]
  },
  {
   "cell_type": "code",
   "execution_count": 11,
   "metadata": {},
   "outputs": [
    {
     "data": {
      "text/latex": [
       "$\\left[\\begin{matrix}\n",
       "0 \\\\\n",
       "\\left(\\dot{q}_{A}\\left(t\\right) + \\dot{q}_{M}\\left(t\\right)\\right) m s \\\\\n",
       "0 \\\\\n",
       "\\end{matrix}\\right]\n",
       "$"
      ],
      "text/plain": [
       "[0]\n",
       "[(\\dot{q}_{A}(t) + \\dot{q}_{M}(t))*m*s]\n",
       "[0]"
      ]
     },
     "execution_count": 11,
     "metadata": {},
     "output_type": "execute_result"
    }
   ],
   "source": [
    "K_p = m * K_v_S\n",
    "K_p"
   ]
  },
  {
   "cell_type": "code",
   "execution_count": 12,
   "metadata": {},
   "outputs": [
    {
     "data": {
      "text/latex": [
       "$\\left[\\begin{matrix}\n",
       "0 \\\\\n",
       "0 \\\\\n",
       "\\left(\\dot{q}_{A}\\left(t\\right) + \\dot{q}_{M}\\left(t\\right)\\right) C_{A} \\\\\n",
       "\\end{matrix}\\right]\n",
       "$"
      ],
      "text/plain": [
       "[0]\n",
       "[0]\n",
       "[(\\dot{q}_{A}(t) + \\dot{q}_{M}(t))*C_{A}]"
      ]
     },
     "execution_count": 12,
     "metadata": {},
     "output_type": "execute_result"
    }
   ],
   "source": [
    "K_L_A = K_J_AS * K_w_K\n",
    "K_L_A"
   ]
  },
  {
   "cell_type": "code",
   "execution_count": 13,
   "metadata": {},
   "outputs": [
    {
     "data": {
      "text/latex": [
       "$\\left[\\begin{matrix}\n",
       "0 \\\\\n",
       "0 \\\\\n",
       "i_{G} C_{M} \\dot{q}_{M}\\left(t\\right) \\\\\n",
       "\\end{matrix}\\right]\n",
       "$"
      ],
      "text/plain": [
       "[0]\n",
       "[0]\n",
       "[i_{G}*C_{M}*\\dot{q}_{M}(t)]"
      ]
     },
     "execution_count": 13,
     "metadata": {},
     "output_type": "execute_result"
    }
   ],
   "source": [
    "K_L_M = K_J_MS * K_w_M\n",
    "K_L_M"
   ]
  },
  {
   "cell_type": "code",
   "execution_count": 14,
   "metadata": {},
   "outputs": [
    {
     "data": {
      "text/latex": [
       "$\\left[\\begin{matrix}\n",
       "0 \\\\\n",
       "0 \\\\\n",
       "-c q_{A}\\left(t\\right) \\\\\n",
       "\\end{matrix}\\right]\n",
       "$"
      ],
      "text/plain": [
       "[0]\n",
       "[0]\n",
       "[-c*q_{A}(t)]"
      ]
     },
     "execution_count": 14,
     "metadata": {},
     "output_type": "execute_result"
    }
   ],
   "source": [
    "K_Me_A = se.Matrix([0,0,-qA * c])\n",
    "K_Me_A"
   ]
  },
  {
   "cell_type": "code",
   "execution_count": 15,
   "metadata": {},
   "outputs": [
    {
     "data": {
      "text/latex": [
       "$\\left[\\begin{matrix}\n",
       "0 \\\\\n",
       "0 \\\\\n",
       "\\frac{c q_{A}\\left(t\\right)}{i_{G}} + M_{Mot}\\left(t\\right) \\\\\n",
       "\\end{matrix}\\right]\n",
       "$"
      ],
      "text/plain": [
       "[0]\n",
       "[0]\n",
       "[c*q_{A}(t)/i_{G} + M_{Mot}(t)]"
      ]
     },
     "execution_count": 15,
     "metadata": {},
     "output_type": "execute_result"
    }
   ],
   "source": [
    "K_Me_M = se.Matrix([0,0,M_Mot]) - K_Me_A / iG\n",
    "K_Me_M"
   ]
  },
  {
   "cell_type": "code",
   "execution_count": 16,
   "metadata": {},
   "outputs": [
    {
     "data": {
      "text/latex": [
       "$\\left[\\begin{matrix}\n",
       "0 \\\\\n",
       "\\left(\\ddot{q}_{A}\\left(t\\right) + \\ddot{q}_{M}\\left(t\\right)\\right) m s \\\\\n",
       "0 \\\\\n",
       "\\end{matrix}\\right]\n",
       "$"
      ],
      "text/plain": [
       "[0]\n",
       "[(\\ddot{q}_{A}(t) + \\ddot{q}_{M}(t))*m*s]\n",
       "[0]"
      ]
     },
     "metadata": {},
     "output_type": "display_data"
    },
    {
     "data": {
      "text/latex": [
       "$\\left[\\begin{matrix}\n",
       "0 \\\\\n",
       "\\left(\\dot{q}_{A}\\left(t\\right) + \\dot{q}_{M}\\left(t\\right)\\right) m s \\\\\n",
       "0 \\\\\n",
       "\\end{matrix}\\right]\n",
       "$"
      ],
      "text/plain": [
       "[0]\n",
       "[(\\dot{q}_{A}(t) + \\dot{q}_{M}(t))*m*s]\n",
       "[0]"
      ]
     },
     "metadata": {},
     "output_type": "display_data"
    },
    {
     "data": {
      "text/latex": [
       "$\\displaystyle \\left[\\begin{matrix}m s^{2} \\left(\\ddot{q}_{A}{\\left(t \\right)} + \\ddot{q}_{M}{\\left(t \\right)}\\right)\\\\m s^{2} \\left(\\ddot{q}_{A}{\\left(t \\right)} + \\ddot{q}_{M}{\\left(t \\right)}\\right)\\end{matrix}\\right]$"
      ],
      "text/plain": [
       "⎡   2                                    ⎤\n",
       "⎢m⋅s ⋅(\\ddot{q}_{A}(t) + \\ddot{q}_{M}(t))⎥\n",
       "⎢                                        ⎥\n",
       "⎢   2                                    ⎥\n",
       "⎣m⋅s ⋅(\\ddot{q}_{A}(t) + \\ddot{q}_{M}(t))⎦"
      ]
     },
     "metadata": {},
     "output_type": "display_data"
    }
   ],
   "source": [
    "display(diff_t(K_p), K_p)\n",
    "part1 = K_v_S.jacobian(q_dot).transpose() * (diff_t(K_p) + K_w_K.cross(K_p))\n",
    "\n",
    "disp(part1)"
   ]
  },
  {
   "cell_type": "code",
   "execution_count": 17,
   "metadata": {},
   "outputs": [
    {
     "data": {
      "text/latex": [
       "$\\left[\\begin{matrix}\n",
       "c q_{A}\\left(t\\right) + \\left(\\ddot{q}_{A}\\left(t\\right) + \\ddot{q}_{M}\\left(t\\right)\\right) C_{A} \\\\\n",
       "c q_{A}\\left(t\\right) + \\left(\\ddot{q}_{A}\\left(t\\right) + \\ddot{q}_{M}\\left(t\\right)\\right) C_{A} \\\\\n",
       "\\end{matrix}\\right]\n",
       "$"
      ],
      "text/plain": [
       "[c*q_{A}(t) + (\\ddot{q}_{A}(t) + \\ddot{q}_{M}(t))*C_{A}]\n",
       "[c*q_{A}(t) + (\\ddot{q}_{A}(t) + \\ddot{q}_{M}(t))*C_{A}]"
      ]
     },
     "execution_count": 17,
     "metadata": {},
     "output_type": "execute_result"
    }
   ],
   "source": [
    "part2 = K_w_K.jacobian(q_dot).transpose() * (diff_t(K_L_A) + K_w_K.cross(K_L_A) - K_Me_A)\n",
    "part2"
   ]
  },
  {
   "cell_type": "code",
   "execution_count": 18,
   "metadata": {},
   "outputs": [
    {
     "data": {
      "text/latex": [
       "$\\left[\\begin{matrix}\n",
       "i_{G} \\left(i_{G} C_{M} \\ddot{q}_{M}\\left(t\\right) - \\left(\\frac{c q_{A}\\left(t\\right)}{i_{G}} + M_{Mot}\\left(t\\right)\\right)\\right) \\\\\n",
       "0 \\\\\n",
       "\\end{matrix}\\right]\n",
       "$"
      ],
      "text/plain": [
       "[i_{G}*(i_{G}*C_{M}*\\ddot{q}_{M}(t) - (c*q_{A}(t)/i_{G} + M_{Mot}(t)))]\n",
       "[0]"
      ]
     },
     "execution_count": 18,
     "metadata": {},
     "output_type": "execute_result"
    }
   ],
   "source": [
    "part3 = K_w_M.jacobian(q_dot).transpose() * (diff_t(K_L_M) + K_w_M.cross(K_L_M) - K_Me_M)\n",
    "part3"
   ]
  },
  {
   "cell_type": "code",
   "execution_count": 19,
   "metadata": {},
   "outputs": [
    {
     "data": {
      "text/latex": [
       "$\\displaystyle \\left[\\begin{matrix}C_{A} \\left(\\ddot{q}_{A}{\\left(t \\right)} + \\ddot{q}_{M}{\\left(t \\right)}\\right) + c q_{A}{\\left(t \\right)} + i_{G} \\left(C_{M} i_{G} \\ddot{q}_{M}{\\left(t \\right)} - \\frac{c q_{A}{\\left(t \\right)}}{i_{G}} - M_{Mot}{\\left(t \\right)}\\right) + m s^{2} \\left(\\ddot{q}_{A}{\\left(t \\right)} + \\ddot{q}_{M}{\\left(t \\right)}\\right)\\\\C_{A} \\left(\\ddot{q}_{A}{\\left(t \\right)} + \\ddot{q}_{M}{\\left(t \\right)}\\right) + c q_{A}{\\left(t \\right)} + m s^{2} \\left(\\ddot{q}_{A}{\\left(t \\right)} + \\ddot{q}_{M}{\\left(t \\right)}\\right)\\end{matrix}\\right]$"
      ],
      "text/plain": [
       "⎡                                                               ⎛             \n",
       "⎢C_{A}⋅(\\ddot{q}_{A}(t) + \\ddot{q}_{M}(t)) + c⋅q_{A}(t) + i_{G}⋅⎜C_{M}⋅i_{G}⋅\\\n",
       "⎢                                                               ⎝             \n",
       "⎢                                                                             \n",
       "⎢                                                                             \n",
       "⎣                                C_{A}⋅(\\ddot{q}_{A}(t) + \\ddot{q}_{M}(t)) + c\n",
       "\n",
       "                 c⋅q_{A}(t)             ⎞      2                              \n",
       "ddot{q}_{M}(t) - ────────── - M_{Mot}(t)⎟ + m⋅s ⋅(\\ddot{q}_{A}(t) + \\ddot{q}_{\n",
       "                   i_{G}                ⎠                                     \n",
       "                                                                              \n",
       "               2                                                              \n",
       "⋅q_{A}(t) + m⋅s ⋅(\\ddot{q}_{A}(t) + \\ddot{q}_{M}(t))                          \n",
       "\n",
       "      ⎤\n",
       "M}(t))⎥\n",
       "      ⎥\n",
       "      ⎥\n",
       "      ⎥\n",
       "      ⎦"
      ]
     },
     "metadata": {},
     "output_type": "display_data"
    }
   ],
   "source": [
    "parts = part1 + part2 + part3\n",
    "disp(parts)"
   ]
  },
  {
   "cell_type": "code",
   "execution_count": 20,
   "metadata": {},
   "outputs": [
    {
     "data": {
      "text/latex": [
       "$\\displaystyle \\left[\\begin{matrix}C_{A} + C_{M} i_{G}^{2} + m s^{2} & C_{A} + m s^{2}\\\\C_{A} + m s^{2} & C_{A} + m s^{2}\\end{matrix}\\right]$"
      ],
      "text/plain": [
       "⎡                   2      2             2⎤\n",
       "⎢C_{A} + C_{M}⋅i_{G}  + m⋅s   C_{A} + m⋅s ⎥\n",
       "⎢                                         ⎥\n",
       "⎢                  2                     2⎥\n",
       "⎣       C_{A} + m⋅s           C_{A} + m⋅s ⎦"
      ]
     },
     "metadata": {},
     "output_type": "display_data"
    }
   ],
   "source": [
    "M = parts.jacobian(q_ddot)\n",
    "disp(M)"
   ]
  },
  {
   "cell_type": "code",
   "execution_count": 21,
   "metadata": {},
   "outputs": [
    {
     "data": {
      "text/latex": [
       "$\\left[\\begin{matrix}\n",
       "-i_{G} M_{Mot}\\left(t\\right) \\\\\n",
       "c q_{A}\\left(t\\right) \\\\\n",
       "\\end{matrix}\\right]\n",
       "$"
      ],
      "text/plain": [
       "[-i_{G}*M_{Mot}(t)]\n",
       "[c*q_{A}(t)]"
      ]
     },
     "execution_count": 21,
     "metadata": {},
     "output_type": "execute_result"
    }
   ],
   "source": [
    "g = parts - M @  q_ddot\n",
    "g = g.expand()\n",
    "g"
   ]
  },
  {
   "cell_type": "code",
   "execution_count": 22,
   "metadata": {},
   "outputs": [],
   "source": [
    "f = q_dot.col_join((-M.inv() * g.expand()))\n"
   ]
  },
  {
   "cell_type": "code",
   "execution_count": 23,
   "metadata": {},
   "outputs": [],
   "source": [
    "x_vars = q.col_join(q_dot)\n",
    "h = se.Matrix([[qM + qA],[(qM_dot + qA_dot * qA)]])\n",
    "\n",
    "dynSys = DynamicSystem(x_vars,u)\n",
    "dynSys.addStateEquations(f)\n",
    "dynSys.addOutput(h,\"y\")\n",
    "dynSys.addOutput(h,\"l\")\n",
    "dynSys.addInput(u,\"u\")\n",
    "dynSys.addParameter(params)\n",
    "#sys = Robotik_System(f,h,q_var,u_var,params,False)"
   ]
  },
  {
   "cell_type": "code",
   "execution_count": 24,
   "metadata": {},
   "outputs": [
    {
     "data": {
      "text/latex": [
       "$\\displaystyle \\left[\\begin{matrix}0 & 0 & 1 & 0\\\\0 & 0 & 0 & 1\\\\0 & \\frac{c \\left(C_{A} + m s^{2}\\right)}{\\left(C_{A} + C_{M} i_{G}^{2} + m s^{2}\\right) \\left(C_{A} + m s^{2} - \\frac{\\left(C_{A} + m s^{2}\\right)^{2}}{C_{A} + C_{M} i_{G}^{2} + m s^{2}}\\right)} & 0 & 0\\\\0 & - \\frac{c}{C_{A} + m s^{2} - \\frac{\\left(C_{A} + m s^{2}\\right)^{2}}{C_{A} + C_{M} i_{G}^{2} + m s^{2}}} & 0 & 0\\end{matrix}\\right]$"
      ],
      "text/plain": [
       "⎡0                                      0                                     \n",
       "⎢                                                                             \n",
       "⎢0                                      0                                     \n",
       "⎢                                                                             \n",
       "⎢                                  ⎛           2⎞                             \n",
       "⎢                                c⋅⎝C_{A} + m⋅s ⎠                             \n",
       "⎢0  ──────────────────────────────────────────────────────────────────────────\n",
       "⎢                                 ⎛                                   2      ⎞\n",
       "⎢                                 ⎜                     ⎛           2⎞       ⎟\n",
       "⎢   ⎛                   2      2⎞ ⎜           2         ⎝C_{A} + m⋅s ⎠       ⎟\n",
       "⎢   ⎝C_{A} + C_{M}⋅i_{G}  + m⋅s ⎠⋅⎜C_{A} + m⋅s  - ───────────────────────────⎟\n",
       "⎢                                 ⎜                                  2      2⎟\n",
       "⎢                                 ⎝               C_{A} + C_{M}⋅i_{G}  + m⋅s ⎠\n",
       "⎢                                                                             \n",
       "⎢                                      -c                                     \n",
       "⎢0                  ──────────────────────────────────────────                \n",
       "⎢                                                      2                      \n",
       "⎢                                        ⎛           2⎞                       \n",
       "⎢                              2         ⎝C_{A} + m⋅s ⎠                       \n",
       "⎢                   C_{A} + m⋅s  - ───────────────────────────                \n",
       "⎢                                                     2      2                \n",
       "⎣                                  C_{A} + C_{M}⋅i_{G}  + m⋅s                 \n",
       "\n",
       "  1  0⎤\n",
       "      ⎥\n",
       "  0  1⎥\n",
       "      ⎥\n",
       "      ⎥\n",
       "      ⎥\n",
       "  0  0⎥\n",
       "      ⎥\n",
       "      ⎥\n",
       "      ⎥\n",
       "      ⎥\n",
       "      ⎥\n",
       "      ⎥\n",
       "      ⎥\n",
       "      ⎥\n",
       "  0  0⎥\n",
       "      ⎥\n",
       "      ⎥\n",
       "      ⎥\n",
       "      ⎥\n",
       "      ⎥\n",
       "      ⎦"
      ]
     },
     "metadata": {},
     "output_type": "display_data"
    },
    {
     "data": {
      "text/latex": [
       "$\\displaystyle \\left[\\begin{matrix}0\\\\0\\\\\\frac{i_{G} \\left(\\frac{\\left(C_{A} + m s^{2}\\right)^{2}}{\\left(C_{A} + C_{M} i_{G}^{2} + m s^{2}\\right) \\left(C_{A} + m s^{2} - \\frac{\\left(C_{A} + m s^{2}\\right)^{2}}{C_{A} + C_{M} i_{G}^{2} + m s^{2}}\\right)} + 1\\right)}{C_{A} + C_{M} i_{G}^{2} + m s^{2}}\\\\- \\frac{i_{G} \\left(C_{A} + m s^{2}\\right)}{\\left(C_{A} + C_{M} i_{G}^{2} + m s^{2}\\right) \\left(C_{A} + m s^{2} - \\frac{\\left(C_{A} + m s^{2}\\right)^{2}}{C_{A} + C_{M} i_{G}^{2} + m s^{2}}\\right)}\\end{matrix}\\right]$"
      ],
      "text/plain": [
       "⎡                                          0                                  \n",
       "⎢                                                                             \n",
       "⎢                                          0                                  \n",
       "⎢                                                                             \n",
       "⎢      ⎛                                           2                          \n",
       "⎢      ⎜                             ⎛           2⎞                           \n",
       "⎢      ⎜                             ⎝C_{A} + m⋅s ⎠                           \n",
       "⎢i_{G}⋅⎜──────────────────────────────────────────────────────────────────────\n",
       "⎢      ⎜                              ⎛                                   2   \n",
       "⎢      ⎜                              ⎜                     ⎛           2⎞    \n",
       "⎢      ⎜⎛                   2      2⎞ ⎜           2         ⎝C_{A} + m⋅s ⎠    \n",
       "⎢      ⎜⎝C_{A} + C_{M}⋅i_{G}  + m⋅s ⎠⋅⎜C_{A} + m⋅s  - ────────────────────────\n",
       "⎢      ⎜                              ⎜                                  2    \n",
       "⎢      ⎝                              ⎝               C_{A} + C_{M}⋅i_{G}  + m\n",
       "⎢─────────────────────────────────────────────────────────────────────────────\n",
       "⎢                                                2      2                     \n",
       "⎢                             C_{A} + C_{M}⋅i_{G}  + m⋅s                      \n",
       "⎢                                                                             \n",
       "⎢                                       ⎛           2⎞                        \n",
       "⎢                                -i_{G}⋅⎝C_{A} + m⋅s ⎠                        \n",
       "⎢      ───────────────────────────────────────────────────────────────────────\n",
       "⎢                                    ⎛                                   2    \n",
       "⎢                                    ⎜                     ⎛           2⎞     \n",
       "⎢      ⎛                   2      2⎞ ⎜           2         ⎝C_{A} + m⋅s ⎠     \n",
       "⎢      ⎝C_{A} + C_{M}⋅i_{G}  + m⋅s ⎠⋅⎜C_{A} + m⋅s  - ─────────────────────────\n",
       "⎢                                    ⎜                                  2     \n",
       "⎣                                    ⎝               C_{A} + C_{M}⋅i_{G}  + m⋅\n",
       "\n",
       "         ⎤\n",
       "         ⎥\n",
       "         ⎥\n",
       "         ⎥\n",
       "        ⎞⎥\n",
       "        ⎟⎥\n",
       "        ⎟⎥\n",
       "──── + 1⎟⎥\n",
       "   ⎞    ⎟⎥\n",
       "   ⎟    ⎟⎥\n",
       "   ⎟    ⎟⎥\n",
       "───⎟    ⎟⎥\n",
       "  2⎟    ⎟⎥\n",
       "⋅s ⎠    ⎠⎥\n",
       "─────────⎥\n",
       "         ⎥\n",
       "         ⎥\n",
       "         ⎥\n",
       "         ⎥\n",
       "         ⎥\n",
       "───      ⎥\n",
       "  ⎞      ⎥\n",
       "  ⎟      ⎥\n",
       "  ⎟      ⎥\n",
       "──⎟      ⎥\n",
       " 2⎟      ⎥\n",
       "s ⎠      ⎦"
      ]
     },
     "metadata": {},
     "output_type": "display_data"
    },
    {
     "data": {
      "text/latex": [
       "$\\displaystyle \\left[\\begin{matrix}1 & 1 & 0 & 0\\\\0 & 0 & 1 & 0\\\\1 & 1 & 0 & 0\\\\0 & 0 & 1 & 0\\end{matrix}\\right]$"
      ],
      "text/plain": [
       "⎡1  1  0  0⎤\n",
       "⎢          ⎥\n",
       "⎢0  0  1  0⎥\n",
       "⎢          ⎥\n",
       "⎢1  1  0  0⎥\n",
       "⎢          ⎥\n",
       "⎣0  0  1  0⎦"
      ]
     },
     "metadata": {},
     "output_type": "display_data"
    },
    {
     "data": {
      "text/latex": [
       "$\\displaystyle \\left[\\begin{matrix}0\\\\0\\\\0\\\\0\\end{matrix}\\right]$"
      ],
      "text/plain": [
       "⎡0⎤\n",
       "⎢ ⎥\n",
       "⎢0⎥\n",
       "⎢ ⎥\n",
       "⎢0⎥\n",
       "⎢ ⎥\n",
       "⎣0⎦"
      ]
     },
     "metadata": {},
     "output_type": "display_data"
    }
   ],
   "source": [
    "[A,B,C,D] = dynSys.linearize(se.Matrix([0,0,0,0]),se.Matrix([0]))\n",
    "disp(A,B,C,D)\n"
   ]
  },
  {
   "cell_type": "code",
   "execution_count": 25,
   "metadata": {},
   "outputs": [
    {
     "data": {
      "text/latex": [
       "$\\displaystyle \\left( 1, \\  1\\right)$"
      ],
      "text/plain": [
       "(1, 1)"
      ]
     },
     "metadata": {},
     "output_type": "display_data"
    },
    {
     "data": {
      "text/latex": [
       "$\\displaystyle \\left( 1, \\  1\\right)$"
      ],
      "text/plain": [
       "(1, 1)"
      ]
     },
     "metadata": {},
     "output_type": "display_data"
    },
    {
     "data": {
      "text/latex": [
       "$\\displaystyle \\left( 1, \\  1\\right)$"
      ],
      "text/plain": [
       "(1, 1)"
      ]
     },
     "metadata": {},
     "output_type": "display_data"
    },
    {
     "data": {
      "text/latex": [
       "$\\displaystyle \\left( 1, \\  1\\right)$"
      ],
      "text/plain": [
       "(1, 1)"
      ]
     },
     "metadata": {},
     "output_type": "display_data"
    },
    {
     "data": {
      "text/latex": [
       "$\\displaystyle \\left( 1, \\  1\\right)$"
      ],
      "text/plain": [
       "(1, 1)"
      ]
     },
     "metadata": {},
     "output_type": "display_data"
    },
    {
     "data": {
      "text/latex": [
       "$\\displaystyle \\left( 1, \\  1\\right)$"
      ],
      "text/plain": [
       "(1, 1)"
      ]
     },
     "metadata": {},
     "output_type": "display_data"
    },
    {
     "data": {
      "text/latex": [
       "$\\displaystyle \\left( 1, \\  1\\right)$"
      ],
      "text/plain": [
       "(1, 1)"
      ]
     },
     "metadata": {},
     "output_type": "display_data"
    },
    {
     "data": {
      "text/latex": [
       "$\\displaystyle \\left( 1, \\  1\\right)$"
      ],
      "text/plain": [
       "(1, 1)"
      ]
     },
     "metadata": {},
     "output_type": "display_data"
    }
   ],
   "source": [
    "#dynSys.write_ABCD_to_File(\"ss_matrices\")\n",
    "#dynSys.write_init_File(\"init_params\")\n",
    "#dynSys.write_SFunction(\"sfun_test\")\n",
    "dynSys.write_MFunctions(\"Test\")"
   ]
  }
 ],
 "metadata": {
  "kernelspec": {
   "display_name": "Python 3",
   "language": "python",
   "name": "python3"
  },
  "language_info": {
   "codemirror_mode": {
    "name": "ipython",
    "version": 3
   },
   "file_extension": ".py",
   "mimetype": "text/x-python",
   "name": "python",
   "nbconvert_exporter": "python",
   "pygments_lexer": "ipython3",
   "version": "3.11.0"
  },
  "orig_nbformat": 4,
  "vscode": {
   "interpreter": {
    "hash": "08f57244d2f3420109eb4a4246849699d07d1b1540cb0230b33c3c9bc0f89fba"
   }
  }
 },
 "nbformat": 4,
 "nbformat_minor": 2
}
