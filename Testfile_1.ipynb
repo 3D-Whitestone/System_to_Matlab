{
 "cells": [
  {
   "cell_type": "code",
   "execution_count": 1,
   "metadata": {},
   "outputs": [],
   "source": [
    "from Modules import *\n",
    "import symengine as se\n",
    "import sympy\n",
    "\n",
    "se.init_printing(pretty_print=True)\n",
    "sympy.init_printing(use_latex='mathjax')"
   ]
  },
  {
   "cell_type": "code",
   "execution_count": 2,
   "metadata": {},
   "outputs": [],
   "source": [
    "iG = se.Symbol(\"i_G\" , real = True)\n",
    "c = se.Symbol(\"c\" , real = True)\n",
    "s = se.Symbol(\"s\" , real = True)\n",
    "m = se.Symbol(\"m\" , real = True)\n",
    "CA = se.Symbol(\"C_A\" , real = True)\n",
    "CM = se.Symbol(\"C_M\" , real = True)\n",
    "km = se.Symbol(\"k_m\" , real = True)\n",
    "\n",
    "params = [iG,c,s,m,CA,CM,km]"
   ]
  },
  {
   "cell_type": "code",
   "execution_count": 3,
   "metadata": {},
   "outputs": [
    {
     "data": {
      "text/latex": [
       "$\\left[\\begin{matrix}\n",
       "q_0\\left(t\\right) & \\dot{q}_0\\left(t\\right) & \\ddot{q}_0\\left(t\\right) \\\\\n",
       "q_1\\left(t\\right) & \\dot{q}_1\\left(t\\right) & \\ddot{q}_1\\left(t\\right) \\\\\n",
       "\\end{matrix}\\right]\n",
       "$"
      ],
      "text/plain": [
       "<Modules.Symbols.DynamicSymbols.DynamicSymbols at 0x283808c3550>"
      ]
     },
     "metadata": {},
     "output_type": "display_data"
    },
    {
     "data": {
      "text/latex": [
       "$\\left[\\begin{matrix}\n",
       "M_{Mot}\\left(t\\right) \\\\\n",
       "\\end{matrix}\\right]\n",
       "$"
      ],
      "text/plain": [
       "<Modules.Symbols.DynamicSymbols.DynamicSymbols at 0x28382099cd0>"
      ]
     },
     "metadata": {},
     "output_type": "display_data"
    }
   ],
   "source": [
    "# q_var = DynamicSymbols([\"q_M\",\"q_A\"],1,2,True)\n",
    "q_var = DynamicSymbols(\"q\",2,2)\n",
    "\n",
    "u_var = DynamicSymbols(\"M_{Mot}\",1,0)\n",
    "\n",
    "u = u_var.vars\n",
    "[q,q_dot,q_ddot] = q_var.vars\n",
    "[[qM,qA],[qM_dot, qA_dot],[qM_ddot, qA_ddot]] = q_var.vars\n",
    "\n",
    "display(q_var, u_var)\n",
    "M_Mot = u[0]"
   ]
  },
  {
   "cell_type": "code",
   "execution_count": 4,
   "metadata": {},
   "outputs": [
    {
     "data": {
      "text/latex": [
       "$\\left[\\begin{matrix}\n",
       "0 & 0 & 0 \\\\\n",
       "0 & 0 & 0 \\\\\n",
       "0 & 0 & C_A \\\\\n",
       "\\end{matrix}\\right]\n",
       "$"
      ],
      "text/plain": [
       "[0, 0, 0]\n",
       "[0, 0, 0]\n",
       "[0, 0, C_A]"
      ]
     },
     "execution_count": 4,
     "metadata": {},
     "output_type": "execute_result"
    }
   ],
   "source": [
    "K_J_AS = se.diag(0,0,CA)\n",
    "K_J_AS"
   ]
  },
  {
   "cell_type": "code",
   "execution_count": 5,
   "metadata": {},
   "outputs": [
    {
     "data": {
      "text/latex": [
       "$\\left[\\begin{matrix}\n",
       "0 & 0 & 0 \\\\\n",
       "0 & 0 & 0 \\\\\n",
       "0 & 0 & C_M \\\\\n",
       "\\end{matrix}\\right]\n",
       "$"
      ],
      "text/plain": [
       "[0, 0, 0]\n",
       "[0, 0, 0]\n",
       "[0, 0, C_M]"
      ]
     },
     "execution_count": 5,
     "metadata": {},
     "output_type": "execute_result"
    }
   ],
   "source": [
    "K_J_MS = se.zeros(3)\n",
    "K_J_MS[2,2] = CM\n",
    "\n",
    "\n",
    "K_J_MS"
   ]
  },
  {
   "cell_type": "code",
   "execution_count": 6,
   "metadata": {},
   "outputs": [
    {
     "data": {
      "text/latex": [
       "$\\left[\\begin{matrix}\n",
       "\\cos{\\left(q_0\\left(t\\right)\\right)} & -\\sin{\\left(q_0\\left(t\\right)\\right)} & 0 \\\\\n",
       "\\sin{\\left(q_0\\left(t\\right)\\right)} & \\cos{\\left(q_0\\left(t\\right)\\right)} & 0 \\\\\n",
       "0 & 0 & 1 \\\\\n",
       "\\end{matrix}\\right]\n",
       "$"
      ],
      "text/plain": [
       "[cos(q_0(t)), -sin(q_0(t)), 0]\n",
       "[sin(q_0(t)), cos(q_0(t)), 0]\n",
       "[0, 0, 1]"
      ]
     },
     "metadata": {},
     "output_type": "display_data"
    }
   ],
   "source": [
    "R_IK = Drehmatrix(se.Matrix([0,0,qM]))\n",
    "display(R_IK)"
   ]
  },
  {
   "cell_type": "code",
   "execution_count": 7,
   "metadata": {},
   "outputs": [
    {
     "data": {
      "text/latex": [
       "$\\left[\\begin{matrix}\n",
       "s \\\\\n",
       "0 \\\\\n",
       "0 \\\\\n",
       "\\end{matrix}\\right]\n",
       "$"
      ],
      "text/plain": [
       "[s]\n",
       "[0]\n",
       "[0]"
      ]
     },
     "execution_count": 7,
     "metadata": {},
     "output_type": "execute_result"
    }
   ],
   "source": [
    "K_r_s = se.Matrix([s,0,0])\n",
    "K_r_s"
   ]
  },
  {
   "cell_type": "code",
   "execution_count": 8,
   "metadata": {},
   "outputs": [
    {
     "data": {
      "text/latex": [
       "$\\left[\\begin{matrix}\n",
       "0 \\\\\n",
       "0 \\\\\n",
       "\\dot{q}_0\\left(t\\right) + \\dot{q}_1\\left(t\\right) \\\\\n",
       "\\end{matrix}\\right]\n",
       "$"
      ],
      "text/plain": [
       "[0]\n",
       "[0]\n",
       "[\\dot{q}_0(t) + \\dot{q}_1(t)]"
      ]
     },
     "execution_count": 8,
     "metadata": {},
     "output_type": "execute_result"
    }
   ],
   "source": [
    "K_w_K = se.Matrix([0,0,qA_dot+qM_dot])\n",
    "K_w_K"
   ]
  },
  {
   "cell_type": "code",
   "execution_count": 9,
   "metadata": {},
   "outputs": [
    {
     "data": {
      "text/latex": [
       "$\\left[\\begin{matrix}\n",
       "0 \\\\\n",
       "0 \\\\\n",
       "i_G \\dot{q}_0\\left(t\\right) \\\\\n",
       "\\end{matrix}\\right]\n",
       "$"
      ],
      "text/plain": [
       "[0]\n",
       "[0]\n",
       "[i_G*\\dot{q}_0(t)]"
      ]
     },
     "execution_count": 9,
     "metadata": {},
     "output_type": "execute_result"
    }
   ],
   "source": [
    "K_w_M = se.Matrix([0,0,iG*qM_dot])\n",
    "K_w_M"
   ]
  },
  {
   "cell_type": "code",
   "execution_count": 10,
   "metadata": {},
   "outputs": [
    {
     "data": {
      "text/latex": [
       "$\\left[\\begin{matrix}\n",
       "0 \\\\\n",
       "s \\left(\\dot{q}_0\\left(t\\right) + \\dot{q}_1\\left(t\\right)\\right) \\\\\n",
       "0 \\\\\n",
       "\\end{matrix}\\right]\n",
       "$"
      ],
      "text/plain": [
       "[0]\n",
       "[s*(\\dot{q}_0(t) + \\dot{q}_1(t))]\n",
       "[0]"
      ]
     },
     "execution_count": 10,
     "metadata": {},
     "output_type": "execute_result"
    }
   ],
   "source": [
    "K_v_S = diff_t(K_r_s) + K_w_K.cross(K_r_s)\n",
    "K_v_S"
   ]
  },
  {
   "cell_type": "code",
   "execution_count": 11,
   "metadata": {},
   "outputs": [
    {
     "data": {
      "text/latex": [
       "$\\left[\\begin{matrix}\n",
       "0 \\\\\n",
       "m s \\left(\\dot{q}_0\\left(t\\right) + \\dot{q}_1\\left(t\\right)\\right) \\\\\n",
       "0 \\\\\n",
       "\\end{matrix}\\right]\n",
       "$"
      ],
      "text/plain": [
       "[0]\n",
       "[m*s*(\\dot{q}_0(t) + \\dot{q}_1(t))]\n",
       "[0]"
      ]
     },
     "execution_count": 11,
     "metadata": {},
     "output_type": "execute_result"
    }
   ],
   "source": [
    "K_p = m * K_v_S\n",
    "K_p"
   ]
  },
  {
   "cell_type": "code",
   "execution_count": 12,
   "metadata": {},
   "outputs": [
    {
     "data": {
      "text/latex": [
       "$\\left[\\begin{matrix}\n",
       "0 \\\\\n",
       "0 \\\\\n",
       "\\left(\\dot{q}_0\\left(t\\right) + \\dot{q}_1\\left(t\\right)\\right) C_A \\\\\n",
       "\\end{matrix}\\right]\n",
       "$"
      ],
      "text/plain": [
       "[0]\n",
       "[0]\n",
       "[(\\dot{q}_0(t) + \\dot{q}_1(t))*C_A]"
      ]
     },
     "execution_count": 12,
     "metadata": {},
     "output_type": "execute_result"
    }
   ],
   "source": [
    "K_L_A = K_J_AS * K_w_K\n",
    "K_L_A"
   ]
  },
  {
   "cell_type": "code",
   "execution_count": 13,
   "metadata": {},
   "outputs": [
    {
     "data": {
      "text/latex": [
       "$\\left[\\begin{matrix}\n",
       "0 \\\\\n",
       "0 \\\\\n",
       "i_G C_M \\dot{q}_0\\left(t\\right) \\\\\n",
       "\\end{matrix}\\right]\n",
       "$"
      ],
      "text/plain": [
       "[0]\n",
       "[0]\n",
       "[i_G*C_M*\\dot{q}_0(t)]"
      ]
     },
     "execution_count": 13,
     "metadata": {},
     "output_type": "execute_result"
    }
   ],
   "source": [
    "K_L_M = K_J_MS * K_w_M\n",
    "K_L_M"
   ]
  },
  {
   "cell_type": "code",
   "execution_count": 14,
   "metadata": {},
   "outputs": [
    {
     "data": {
      "text/latex": [
       "$\\left[\\begin{matrix}\n",
       "0 \\\\\n",
       "0 \\\\\n",
       "-c q_1\\left(t\\right) \\\\\n",
       "\\end{matrix}\\right]\n",
       "$"
      ],
      "text/plain": [
       "[0]\n",
       "[0]\n",
       "[-c*q_1(t)]"
      ]
     },
     "execution_count": 14,
     "metadata": {},
     "output_type": "execute_result"
    }
   ],
   "source": [
    "K_Me_A = se.Matrix([0,0,-qA * c])\n",
    "K_Me_A"
   ]
  },
  {
   "cell_type": "code",
   "execution_count": 15,
   "metadata": {},
   "outputs": [
    {
     "data": {
      "text/latex": [
       "$\\left[\\begin{matrix}\n",
       "0 \\\\\n",
       "0 \\\\\n",
       "\\frac{c q_1\\left(t\\right)}{i_G} + M_{Mot}\\left(t\\right) \\\\\n",
       "\\end{matrix}\\right]\n",
       "$"
      ],
      "text/plain": [
       "[0]\n",
       "[0]\n",
       "[c*q_1(t)/i_G + M_{Mot}(t)]"
      ]
     },
     "execution_count": 15,
     "metadata": {},
     "output_type": "execute_result"
    }
   ],
   "source": [
    "K_Me_M = se.Matrix([0,0,M_Mot]) - K_Me_A / iG\n",
    "K_Me_M"
   ]
  },
  {
   "cell_type": "code",
   "execution_count": 16,
   "metadata": {},
   "outputs": [
    {
     "data": {
      "text/latex": [
       "$\\left[\\begin{matrix}\n",
       "0 \\\\\n",
       "m s \\left(\\ddot{q}_0\\left(t\\right) + \\ddot{q}_1\\left(t\\right)\\right) \\\\\n",
       "0 \\\\\n",
       "\\end{matrix}\\right]\n",
       "$"
      ],
      "text/plain": [
       "[0]\n",
       "[m*s*(\\ddot{q}_0(t) + \\ddot{q}_1(t))]\n",
       "[0]"
      ]
     },
     "metadata": {},
     "output_type": "display_data"
    },
    {
     "data": {
      "text/latex": [
       "$\\left[\\begin{matrix}\n",
       "0 \\\\\n",
       "m s \\left(\\dot{q}_0\\left(t\\right) + \\dot{q}_1\\left(t\\right)\\right) \\\\\n",
       "0 \\\\\n",
       "\\end{matrix}\\right]\n",
       "$"
      ],
      "text/plain": [
       "[0]\n",
       "[m*s*(\\dot{q}_0(t) + \\dot{q}_1(t))]\n",
       "[0]"
      ]
     },
     "metadata": {},
     "output_type": "display_data"
    },
    {
     "data": {
      "text/latex": [
       "$\\left[\\begin{matrix}\n",
       "m s^2 \\left(\\ddot{q}_0\\left(t\\right) + \\ddot{q}_1\\left(t\\right)\\right) \\\\\n",
       "m s^2 \\left(\\ddot{q}_0\\left(t\\right) + \\ddot{q}_1\\left(t\\right)\\right) \\\\\n",
       "\\end{matrix}\\right]\n",
       "$"
      ],
      "text/plain": [
       "[m*s**2*(\\ddot{q}_0(t) + \\ddot{q}_1(t))]\n",
       "[m*s**2*(\\ddot{q}_0(t) + \\ddot{q}_1(t))]"
      ]
     },
     "execution_count": 16,
     "metadata": {},
     "output_type": "execute_result"
    }
   ],
   "source": [
    "display(diff_t(K_p), K_p)\n",
    "part1 = K_v_S.jacobian(q_dot).transpose() * (diff_t(K_p) + K_w_K.cross(K_p))\n",
    "\n",
    "\n",
    "part1"
   ]
  },
  {
   "cell_type": "code",
   "execution_count": 17,
   "metadata": {},
   "outputs": [
    {
     "data": {
      "text/latex": [
       "$\\left[\\begin{matrix}\n",
       "c q_1\\left(t\\right) + \\left(\\ddot{q}_0\\left(t\\right) + \\ddot{q}_1\\left(t\\right)\\right) C_A \\\\\n",
       "c q_1\\left(t\\right) + \\left(\\ddot{q}_0\\left(t\\right) + \\ddot{q}_1\\left(t\\right)\\right) C_A \\\\\n",
       "\\end{matrix}\\right]\n",
       "$"
      ],
      "text/plain": [
       "[c*q_1(t) + (\\ddot{q}_0(t) + \\ddot{q}_1(t))*C_A]\n",
       "[c*q_1(t) + (\\ddot{q}_0(t) + \\ddot{q}_1(t))*C_A]"
      ]
     },
     "execution_count": 17,
     "metadata": {},
     "output_type": "execute_result"
    }
   ],
   "source": [
    "part2 = K_w_K.jacobian(q_dot).transpose() * (diff_t(K_L_A) + K_w_K.cross(K_L_A) - K_Me_A)\n",
    "part2"
   ]
  },
  {
   "cell_type": "code",
   "execution_count": 18,
   "metadata": {},
   "outputs": [
    {
     "data": {
      "text/latex": [
       "$\\left[\\begin{matrix}\n",
       "i_G \\left(i_G C_M \\ddot{q}_0\\left(t\\right) - \\left(\\frac{c q_1\\left(t\\right)}{i_G} + M_{Mot}\\left(t\\right)\\right)\\right) \\\\\n",
       "0 \\\\\n",
       "\\end{matrix}\\right]\n",
       "$"
      ],
      "text/plain": [
       "[i_G*(i_G*C_M*\\ddot{q}_0(t) - (c*q_1(t)/i_G + M_{Mot}(t)))]\n",
       "[0]"
      ]
     },
     "execution_count": 18,
     "metadata": {},
     "output_type": "execute_result"
    }
   ],
   "source": [
    "part3 = K_w_M.jacobian(q_dot).transpose() * (diff_t(K_L_M) + K_w_M.cross(K_L_M) - K_Me_M)\n",
    "part3"
   ]
  },
  {
   "cell_type": "code",
   "execution_count": 19,
   "metadata": {},
   "outputs": [
    {
     "data": {
      "text/latex": [
       "$\\left[\\begin{matrix}\n",
       "c q_1\\left(t\\right) + i_G \\left(i_G C_M \\ddot{q}_0\\left(t\\right) - \\left(\\frac{c q_1\\left(t\\right)}{i_G} + M_{Mot}\\left(t\\right)\\right)\\right) + \\left(\\ddot{q}_0\\left(t\\right) + \\ddot{q}_1\\left(t\\right)\\right) C_A + m s^2 \\left(\\ddot{q}_0\\left(t\\right) + \\ddot{q}_1\\left(t\\right)\\right) \\\\\n",
       "c q_1\\left(t\\right) + \\left(\\ddot{q}_0\\left(t\\right) + \\ddot{q}_1\\left(t\\right)\\right) C_A + m s^2 \\left(\\ddot{q}_0\\left(t\\right) + \\ddot{q}_1\\left(t\\right)\\right) \\\\\n",
       "\\end{matrix}\\right]\n",
       "$"
      ],
      "text/plain": [
       "[c*q_1(t) + i_G*(i_G*C_M*\\ddot{q}_0(t) - (c*q_1(t)/i_G + M_{Mot}(t))) + (\\ddot{q}_0(t) + \\ddot{q}_1(t))*C_A + m*s**2*(\\ddot{q}_0(t) + \\ddot{q}_1(t))]\n",
       "[c*q_1(t) + (\\ddot{q}_0(t) + \\ddot{q}_1(t))*C_A + m*s**2*(\\ddot{q}_0(t) + \\ddot{q}_1(t))]"
      ]
     },
     "execution_count": 19,
     "metadata": {},
     "output_type": "execute_result"
    }
   ],
   "source": [
    "parts = part1 + part2 + part3\n",
    "parts"
   ]
  },
  {
   "cell_type": "code",
   "execution_count": 20,
   "metadata": {},
   "outputs": [
    {
     "data": {
      "text/latex": [
       "$\\left[\\begin{matrix}\n",
       "C_A + i_G^2 C_M + m s^2 & C_A + m s^2 \\\\\n",
       "C_A + m s^2 & C_A + m s^2 \\\\\n",
       "\\end{matrix}\\right]\n",
       "$"
      ],
      "text/plain": [
       "[C_A + i_G**2*C_M + m*s**2, C_A + m*s**2]\n",
       "[C_A + m*s**2, C_A + m*s**2]"
      ]
     },
     "execution_count": 20,
     "metadata": {},
     "output_type": "execute_result"
    }
   ],
   "source": [
    "M = parts.jacobian(q_ddot)\n",
    "M"
   ]
  },
  {
   "cell_type": "code",
   "execution_count": 21,
   "metadata": {},
   "outputs": [
    {
     "data": {
      "text/latex": [
       "$\\left[\\begin{matrix}\n",
       "-i_G M_{Mot}\\left(t\\right) \\\\\n",
       "c q_1\\left(t\\right) \\\\\n",
       "\\end{matrix}\\right]\n",
       "$"
      ],
      "text/plain": [
       "[-i_G*M_{Mot}(t)]\n",
       "[c*q_1(t)]"
      ]
     },
     "execution_count": 21,
     "metadata": {},
     "output_type": "execute_result"
    }
   ],
   "source": [
    "g = parts - M @  q_ddot\n",
    "g = g.subs(dict(zip(q_ddot, [0,0]))).expand()\n",
    "g"
   ]
  },
  {
   "cell_type": "code",
   "execution_count": 22,
   "metadata": {},
   "outputs": [
    {
     "data": {
      "text/plain": [
       "([(x0, C_A + m*s**2),\n",
       "  (x1, (x0 + i_G**2*C_M)**(-1)),\n",
       "  (x2, x0**2*x1),\n",
       "  (x3, (x0 - x2)**(-1)),\n",
       "  (x4, x1*i_G*M_{Mot}(t)),\n",
       "  (x5, c*x3*q_1(t))],\n",
       " [\\dot{q}_0(t), \\dot{q}_1(t), x4*(1 + x2*x3) + x0*x1*x5, -x5 - x0*x4*x3])"
      ]
     },
     "metadata": {},
     "output_type": "display_data"
    },
    {
     "data": {
      "text/latex": [
       "$\\left[\\begin{matrix}\n",
       "\\dot{q}_0\\left(t\\right) \\\\\n",
       "\\dot{q}_1\\left(t\\right) \\\\\n",
       "\\frac{i_G \\left(1 + \\frac{\\left(C_A + m s^2\\right)^2}{\\left(C_A + i_G^2 C_M + m s^2\\right) \\left(C_A + m s^2 - \\frac{\\left(C_A + m s^2\\right)^2}{\\left(C_A + i_G^2 C_M + m s^2\\right)}\\right)}\\right) M_{Mot}\\left(t\\right)}{\\left(C_A + i_G^2 C_M + m s^2\\right)} + \\frac{c q_1\\left(t\\right) \\left(C_A + m s^2\\right)}{\\left(C_A + i_G^2 C_M + m s^2\\right) \\left(C_A + m s^2 - \\frac{\\left(C_A + m s^2\\right)^2}{\\left(C_A + i_G^2 C_M + m s^2\\right)}\\right)} \\\\\n",
       "-\\frac{c q_1\\left(t\\right)}{\\left(C_A + m s^2 - \\frac{\\left(C_A + m s^2\\right)^2}{\\left(C_A + i_G^2 C_M + m s^2\\right)}\\right)} - \\frac{i_G \\left(C_A + m s^2\\right) M_{Mot}\\left(t\\right)}{\\left(C_A + i_G^2 C_M + m s^2\\right) \\left(C_A + m s^2 - \\frac{\\left(C_A + m s^2\\right)^2}{\\left(C_A + i_G^2 C_M + m s^2\\right)}\\right)} \\\\\n",
       "\\end{matrix}\\right]\n",
       "$"
      ],
      "text/plain": [
       "[\\dot{q}_0(t)]\n",
       "[\\dot{q}_1(t)]\n",
       "[i_G*(1 + (C_A + m*s**2)**2/((C_A + i_G**2*C_M + m*s**2)*(C_A + m*s**2 - (C_A + m*s**2)**2/(C_A + i_G**2*C_M + m*s**2))))*M_{Mot}(t)/(C_A + i_G**2*C_M + m*s**2) + c*q_1(t)*(C_A + m*s**2)/((C_A + i_G**2*C_M + m*s**2)*(C_A + m*s**2 - (C_A + m*s**2)**2/(C_A + i_G**2*C_M + m*s**2)))]\n",
       "[-c*q_1(t)/(C_A + m*s**2 - (C_A + m*s**2)**2/(C_A + i_G**2*C_M + m*s**2)) - i_G*(C_A + m*s**2)*M_{Mot}(t)/((C_A + i_G**2*C_M + m*s**2)*(C_A + m*s**2 - (C_A + m*s**2)**2/(C_A + i_G**2*C_M + m*s**2)))]"
      ]
     },
     "execution_count": 22,
     "metadata": {},
     "output_type": "execute_result"
    }
   ],
   "source": [
    "f = q_dot.col_join(-M.inv() * g)\n",
    "display(se.cse(f))\n",
    "f"
   ]
  },
  {
   "cell_type": "code",
   "execution_count": 23,
   "metadata": {},
   "outputs": [
    {
     "data": {
      "text/latex": [
       "$\\left[\\begin{matrix}\n",
       "\\dot{q}_0\\left(t\\right) \\\\\n",
       "\\dot{q}_1\\left(t\\right) \\\\\n",
       "\\ddot{q}_0\\left(t\\right) \\\\\n",
       "\\ddot{q}_1\\left(t\\right) \\\\\n",
       "\\end{matrix}\\right]\n",
       "$"
      ],
      "text/plain": [
       "[\\dot{q}_0(t)]\n",
       "[\\dot{q}_1(t)]\n",
       "[\\ddot{q}_0(t)]\n",
       "[\\ddot{q}_1(t)]"
      ]
     },
     "metadata": {},
     "output_type": "display_data"
    }
   ],
   "source": [
    "h = q.col_join(q_dot)\n",
    "dynSys = DynamicSystem(h,u)\n",
    "dynSys.addStateEquations(f)\n",
    "dynSys.addOutput(h,\"x\")\n",
    "dynSys.addInput(u,\"u\")\n",
    "dynSys.addParameter(params)\n",
    "display(dynSys.x_dot)\n",
    "\n",
    "#sys = Robotik_System(f,h,q_var,u_var,params,False)"
   ]
  },
  {
   "cell_type": "code",
   "execution_count": 24,
   "metadata": {},
   "outputs": [
    {
     "data": {
      "text/latex": [
       "$\\left[\\begin{matrix}\n",
       "0 & 0 & 1 & 0 \\\\\n",
       "0 & 0 & 0 & 1 \\\\\n",
       "0 & \\frac{c \\left(C_A + m s^2\\right)}{\\left(C_A + i_G^2 C_M + m s^2\\right) \\left(C_A + m s^2 - \\frac{\\left(C_A + m s^2\\right)^2}{\\left(C_A + i_G^2 C_M + m s^2\\right)}\\right)} & 0 & 0 \\\\\n",
       "0 & \\frac{-c}{\\left(C_A + m s^2 - \\frac{\\left(C_A + m s^2\\right)^2}{\\left(C_A + i_G^2 C_M + m s^2\\right)}\\right)} & 0 & 0 \\\\\n",
       "\\end{matrix}\\right]\n",
       "$"
      ],
      "text/plain": [
       "[0, 0, 1, 0]\n",
       "[0, 0, 0, 1]\n",
       "[0, c*(C_A + m*s**2)/((C_A + i_G**2*C_M + m*s**2)*(C_A + m*s**2 - (C_A + m*s**2)**2/(C_A + i_G**2*C_M + m*s**2))), 0, 0]\n",
       "[0, -c/(C_A + m*s**2 - (C_A + m*s**2)**2/(C_A + i_G**2*C_M + m*s**2)), 0, 0]"
      ]
     },
     "metadata": {},
     "output_type": "display_data"
    },
    {
     "data": {
      "text/latex": [
       "$\\left[\\begin{matrix}\n",
       "0 \\\\\n",
       "0 \\\\\n",
       "\\frac{i_G \\left(1 + \\frac{\\left(C_A + m s^2\\right)^2}{\\left(C_A + i_G^2 C_M + m s^2\\right) \\left(C_A + m s^2 - \\frac{\\left(C_A + m s^2\\right)^2}{\\left(C_A + i_G^2 C_M + m s^2\\right)}\\right)}\\right)}{\\left(C_A + i_G^2 C_M + m s^2\\right)} \\\\\n",
       "\\frac{-i_G \\left(C_A + m s^2\\right)}{\\left(C_A + i_G^2 C_M + m s^2\\right) \\left(C_A + m s^2 - \\frac{\\left(C_A + m s^2\\right)^2}{\\left(C_A + i_G^2 C_M + m s^2\\right)}\\right)} \\\\\n",
       "\\end{matrix}\\right]\n",
       "$"
      ],
      "text/plain": [
       "[0]\n",
       "[0]\n",
       "[i_G*(1 + (C_A + m*s**2)**2/((C_A + i_G**2*C_M + m*s**2)*(C_A + m*s**2 - (C_A + m*s**2)**2/(C_A + i_G**2*C_M + m*s**2))))/(C_A + i_G**2*C_M + m*s**2)]\n",
       "[-i_G*(C_A + m*s**2)/((C_A + i_G**2*C_M + m*s**2)*(C_A + m*s**2 - (C_A + m*s**2)**2/(C_A + i_G**2*C_M + m*s**2)))]"
      ]
     },
     "metadata": {},
     "output_type": "display_data"
    },
    {
     "data": {
      "text/latex": [
       "$\\left[\\begin{matrix}\n",
       "1 & 0 & 0 & 0 \\\\\n",
       "0 & 1 & 0 & 0 \\\\\n",
       "0 & 0 & 1 & 0 \\\\\n",
       "0 & 0 & 0 & 1 \\\\\n",
       "\\end{matrix}\\right]\n",
       "$"
      ],
      "text/plain": [
       "[1, 0, 0, 0]\n",
       "[0, 1, 0, 0]\n",
       "[0, 0, 1, 0]\n",
       "[0, 0, 0, 1]"
      ]
     },
     "metadata": {},
     "output_type": "display_data"
    },
    {
     "data": {
      "text/latex": [
       "$\\left[\\begin{matrix}\n",
       "0 \\\\\n",
       "0 \\\\\n",
       "0 \\\\\n",
       "0 \\\\\n",
       "\\end{matrix}\\right]\n",
       "$"
      ],
      "text/plain": [
       "[0]\n",
       "[0]\n",
       "[0]\n",
       "[0]"
      ]
     },
     "metadata": {},
     "output_type": "display_data"
    }
   ],
   "source": [
    "[A,B,C,D] = dynSys.linearize(se.Matrix([0,0,0,0]),se.Matrix([0]))\n",
    "display(A,B,C,D)"
   ]
  },
  {
   "cell_type": "code",
   "execution_count": 25,
   "metadata": {},
   "outputs": [],
   "source": [
    "dynSys.write_ABCD_to_File(\"ss_matrices\")\n",
    "dynSys.write_init_File(\"init_params\")\n",
    "dynSys.write_SFunction(\"sfun_test\")"
   ]
  },
  {
   "cell_type": "code",
   "execution_count": 26,
   "metadata": {},
   "outputs": [
    {
     "data": {
      "text/latex": [
       "$\\left[\\begin{matrix}\n",
       "q0 \\\\\n",
       "q1 \\\\\n",
       "q0dot \\\\\n",
       "q1dot \\\\\n",
       "\\end{matrix}\\right]\n",
       "$"
      ],
      "text/plain": [
       "[q0]\n",
       "[q1]\n",
       "[q0dot]\n",
       "[q1dot]"
      ]
     },
     "metadata": {},
     "output_type": "display_data"
    }
   ],
   "source": [
    "display(dynSys.x.subs(DynamicSymbols._Symbol_to_printable_dict))\n",
    "#sys.write_s_funs(\"Test\")\n",
    "#sys.write_matlab_funs(\"Test\")\n",
    "#display(q_var.syms)"
   ]
  }
 ],
 "metadata": {
  "kernelspec": {
   "display_name": "Python 3",
   "language": "python",
   "name": "python3"
  },
  "language_info": {
   "codemirror_mode": {
    "name": "ipython",
    "version": 3
   },
   "file_extension": ".py",
   "mimetype": "text/x-python",
   "name": "python",
   "nbconvert_exporter": "python",
   "pygments_lexer": "ipython3",
   "version": "3.11.0"
  },
  "orig_nbformat": 4,
  "vscode": {
   "interpreter": {
    "hash": "08f57244d2f3420109eb4a4246849699d07d1b1540cb0230b33c3c9bc0f89fba"
   }
  }
 },
 "nbformat": 4,
 "nbformat_minor": 2
}
