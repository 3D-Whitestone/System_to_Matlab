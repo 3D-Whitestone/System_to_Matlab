{
 "cells": [
  {
   "cell_type": "code",
   "execution_count": 1,
   "metadata": {},
   "outputs": [
    {
     "ename": "IndentationError",
     "evalue": "expected an indented block after 'for' statement on line 290 (Var_helper.py, line 294)",
     "output_type": "error",
     "traceback": [
      "Traceback \u001b[1;36m(most recent call last)\u001b[0m:\n",
      "\u001b[0m  File \u001b[0;32mc:\\Users\\marti\\AppData\\Local\\Programs\\Python\\Python311\\Lib\\site-packages\\IPython\\core\\interactiveshell.py:3433\u001b[0m in \u001b[0;35mrun_code\u001b[0m\n    exec(code_obj, self.user_global_ns, self.user_ns)\u001b[0m\n",
      "\u001b[0m  Cell \u001b[0;32mIn[1], line 1\u001b[0m\n    from Modules.System import *\u001b[0m\n",
      "\u001b[1;36m  File \u001b[1;32mc:\\Users\\marti\\OneDrive\\_JKU\\Python_lib\\Modules\\System.py:5\u001b[1;36m\n\u001b[1;33m    from Modules.Var_helper import DynamicSymbols\u001b[1;36m\n",
      "\u001b[1;36m  File \u001b[1;32mc:\\Users\\marti\\OneDrive\\_JKU\\Python_lib\\Modules\\Var_helper.py:294\u001b[1;36m\u001b[0m\n\u001b[1;33m    @staticmethod\u001b[0m\n\u001b[1;37m    ^\u001b[0m\n\u001b[1;31mIndentationError\u001b[0m\u001b[1;31m:\u001b[0m expected an indented block after 'for' statement on line 290\n"
     ]
    }
   ],
   "source": [
    "from Modules.System import *\n",
    "import symengine as se\n",
    "import sympy\n",
    "\n",
    "from IPython.display import Math\n",
    "\n",
    "se.init_printing(pretty_print=True)\n",
    "sympy.init_printing(use_latex='mathjax')"
   ]
  },
  {
   "cell_type": "code",
   "execution_count": null,
   "metadata": {},
   "outputs": [
    {
     "ename": "NameError",
     "evalue": "name 'dsym' is not defined",
     "output_type": "error",
     "traceback": [
      "\u001b[1;31m---------------------------------------------------------------------------\u001b[0m",
      "\u001b[1;31mNameError\u001b[0m                                 Traceback (most recent call last)",
      "Cell \u001b[1;32mIn[4], line 1\u001b[0m\n\u001b[1;32m----> 1\u001b[0m q_var \u001b[39m=\u001b[39m dsym([\u001b[39m\"\u001b[39m\u001b[39mq_M\u001b[39m\u001b[39m\"\u001b[39m,\u001b[39m\"\u001b[39m\u001b[39mq_A\u001b[39m\u001b[39m\"\u001b[39m],\u001b[39m1\u001b[39m,\u001b[39m2\u001b[39m,\u001b[39mTrue\u001b[39;00m)\n\u001b[0;32m      2\u001b[0m h_var \u001b[39m=\u001b[39m dsym(\u001b[39m\"\u001b[39m\u001b[39mh\u001b[39m\u001b[39m\"\u001b[39m,\u001b[39m2\u001b[39m,\u001b[39m2\u001b[39m,\u001b[39mTrue\u001b[39;00m)\n\u001b[0;32m      3\u001b[0m u_var \u001b[39m=\u001b[39m dsym([\u001b[39m\"\u001b[39m\u001b[39mM_\u001b[39m\u001b[39m{Mot}\u001b[39;00m\u001b[39m\"\u001b[39m],\u001b[39m1\u001b[39m,\u001b[39m0\u001b[39m,\u001b[39mTrue\u001b[39;00m)\n",
      "\u001b[1;31mNameError\u001b[0m: name 'dsym' is not defined"
     ]
    }
   ],
   "source": [
    "q_var = DynamicSymbols([\"q_M\",\"q_A\"],1,2,True)\n",
    "h_var = DynamicSymbols(\"h\",2,2,True)\n",
    "u_var = DynamicSymbols([\"M_{Mot}\"],1,0,True)\n",
    "System_object.init_diff_t(q_var,u_var)\n",
    "\n",
    "u = u_var.vars\n",
    "[q,q_dot,q_ddot] = q_var.vars\n",
    "[[qM,qA],[qM_dot, qA_dot],[qM_ddot, qA_ddot]] = q_var.vars\n",
    "\n",
    "display(q_var, h_var, u_var)\n",
    "M_Mot = u[0]\n",
    "\n",
    "display(q_var._syms)\n",
    "\n",
    "print(q_var.syms)"
   ]
  },
  {
   "cell_type": "code",
   "execution_count": null,
   "metadata": {},
   "outputs": [
    {
     "name": "stdout",
     "output_type": "stream",
     "text": [
      "q\n",
      "_m_a\n"
     ]
    },
    {
     "data": {
      "text/latex": [
       "$\\displaystyle 1$"
      ],
      "text/plain": [
       "1"
      ]
     },
     "execution_count": 3,
     "metadata": {},
     "output_type": "execute_result"
    }
   ],
   "source": [
    "test = \"q_m_a\"\n",
    "\n",
    "print(test[:test.find(\"_\"):])\n",
    "print(test[test.find(\"_\"):])\n",
    "\n",
    "test.find(\"_\")"
   ]
  }
 ],
 "metadata": {
  "kernelspec": {
   "display_name": "Python 3",
   "language": "python",
   "name": "python3"
  },
  "language_info": {
   "codemirror_mode": {
    "name": "ipython",
    "version": 3
   },
   "file_extension": ".py",
   "mimetype": "text/x-python",
   "name": "python",
   "nbconvert_exporter": "python",
   "pygments_lexer": "ipython3",
   "version": "3.11.0"
  },
  "orig_nbformat": 4
 },
 "nbformat": 4,
 "nbformat_minor": 2
}
